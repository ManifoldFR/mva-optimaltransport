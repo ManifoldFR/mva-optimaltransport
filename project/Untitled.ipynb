{
 "cells": [
  {
   "cell_type": "code",
   "execution_count": 1,
   "metadata": {},
   "outputs": [],
   "source": [
    "%load_ext autoreload\n",
    "%autoreload 2\n",
    "\n",
    "import sys\n",
    "import itertools\n",
    "import utils\n",
    "import numpy as np\n",
    "import cvxpy as cvx\n",
    "import matplotlib.pyplot as plt\n",
    "\n",
    "from matplotlib import cm"
   ]
  },
  {
   "cell_type": "code",
   "execution_count": 238,
   "metadata": {},
   "outputs": [],
   "source": [
    "plt.rcParams['figure.figsize'] = (7, 6)\n",
    "plt.rcParams['figure.dpi'] = 80"
   ]
  },
  {
   "cell_type": "markdown",
   "metadata": {},
   "source": [
    "# Room setup\n",
    "\n",
    "We define a domain $\\Omega$ and obstacles $\\mathscr{O}$.\n",
    "\n",
    "$\\newcommand{\\NN}{\\mathbb N}$\n",
    "$\\newcommand{\\RR}{\\mathbb R}$\n",
    "$\\newcommand{\\dif}{\\mathrm{d}}$\n",
    "$$\n",
    "\\DeclareMathOperator{\\supp}{supp}\n",
    "\\DeclareMathOperator*{\\argmin}{argmin}\n",
    "\\DeclareMathOperator*{\\argmax}{argmax}\n",
    "$$\n",
    "$\\DeclareMathOperator{\\supp}{supp}$\n",
    "$\\DeclareMathOperator{\\KL}{KL}$\n",
    "$\\DeclareMathOperator{\\prox}{prox}$"
   ]
  },
  {
   "cell_type": "code",
   "execution_count": 3,
   "metadata": {},
   "outputs": [],
   "source": [
    "nx = 81\n",
    "xar = np.linspace(0, 1, nx)\n",
    "xg, yg = np.meshgrid(xar, xar)\n",
    "\n",
    "extent = [0,1,0,1]"
   ]
  },
  {
   "cell_type": "code",
   "execution_count": 225,
   "metadata": {},
   "outputs": [],
   "source": [
    "def plot_domain(mask, cax=None, extent=extent):\n",
    "    \"\"\"Plot the domain in black & white\"\"\"\n",
    "    if cax is None:\n",
    "        cax = plt.gca()\n",
    "    cax.imshow(mask, origin='lower', cmap=cm.Greys, extent=extent,\n",
    "               interpolation='none', zorder=5)\n",
    "\n",
    "def plot_measure(a, cax=None, cmap=cm.Greys, extent=extent, **kwargs):\n",
    "    if cax is None:\n",
    "        cax = plt.gca()\n",
    "    kwargs['cmap'] = cmap\n",
    "    cax.imshow(a, origin='lower', \n",
    "               extent=extent, **kwargs)"
   ]
  },
  {
   "cell_type": "code",
   "execution_count": 64,
   "metadata": {},
   "outputs": [],
   "source": [
    "def send_zero_transparent(a):\n",
    "    res = np.zeros((nx,nx,4))\n",
    "    res[..., 3] = a/a.max()\n",
    "    return res"
   ]
  },
  {
   "cell_type": "code",
   "execution_count": 24,
   "metadata": {},
   "outputs": [],
   "source": [
    "# Obstacle domain\n",
    "mask = ((0.64 <= yg) & (yg <= 0.66)) & (xg <= 0.6)\n",
    "mask[:] = mask | ((xg <= 0.001) | (xg >= 0.999))\n",
    "\n",
    "obstacle_idx = np.argwhere(mask)"
   ]
  },
  {
   "cell_type": "code",
   "execution_count": 25,
   "metadata": {},
   "outputs": [],
   "source": [
    "domain_img = np.zeros((nx, nx, 4))\n",
    "domain_img[mask, 3] = 1."
   ]
  },
  {
   "cell_type": "code",
   "execution_count": 26,
   "metadata": {},
   "outputs": [
    {
     "data": {
      "image/png": "[encoded data removed]",
      "text/plain": [
       "<Figure size 480x400 with 1 Axes>"
      ]
     },
     "metadata": {
      "needs_background": "light"
     },
     "output_type": "display_data"
    }
   ],
   "source": [
    "fig = plt.figure()\n",
    "plot_domain(domain_img)\n",
    "plt.axis('off');"
   ]
  },
  {
   "cell_type": "markdown",
   "metadata": {},
   "source": [
    "## Initial and target distributions"
   ]
  },
  {
   "cell_type": "code",
   "execution_count": 27,
   "metadata": {},
   "outputs": [
    {
     "data": {
      "image/png": "[encoded data removed]",
      "text/plain": [
       "<Figure size 480x400 with 1 Axes>"
      ]
     },
     "metadata": {
      "needs_background": "light"
     },
     "output_type": "display_data"
    }
   ],
   "source": [
    "rho_0 = (np.abs(xg - 0.25) <= 0.08) & (np.abs(yg - 0.85) <= 0.08)\n",
    "rho_0 = rho_0.astype(np.float64)\n",
    "rho_0 /= rho_0.sum()  # normalize the density\n",
    "\n",
    "fig, ax = plt.subplots()\n",
    "\n",
    "plot_measure(rho_0, ax)\n",
    "plot_domain(domain_img, ax)\n",
    "plt.axis('off');\n"
   ]
  },
  {
   "cell_type": "code",
   "execution_count": 28,
   "metadata": {},
   "outputs": [
    {
     "data": {
      "image/png": "[encoded data removed]",
      "text/plain": [
       "<Figure size 480x400 with 1 Axes>"
      ]
     },
     "metadata": {
      "needs_background": "light"
     },
     "output_type": "display_data"
    }
   ],
   "source": [
    "rho_tgt = (np.abs(xg - 0.45) <= 0.1) & (np.abs(yg - 0.2) <= 0.08)\n",
    "rho_tgt = rho_tgt.astype(np.float64)\n",
    "rho_tgt /= rho_tgt.sum()  # normalize the density\n",
    "\n",
    "fig, ax = plt.subplots()\n",
    "\n",
    "plot_measure(rho_tgt, ax);\n",
    "plot_domain(domain_img, ax)\n",
    "plt.axis('off');"
   ]
  },
  {
   "cell_type": "markdown",
   "metadata": {},
   "source": [
    "# Simplified transport problem"
   ]
  },
  {
   "cell_type": "markdown",
   "metadata": {},
   "source": [
    "## Classical 2D transport"
   ]
  },
  {
   "cell_type": "markdown",
   "metadata": {},
   "source": [
    "We first seek to minimize the following transport problem\n",
    "$$\n",
    "    \\min_{\\gamma} H(\\gamma | R)\n",
    "$$\n",
    "subject to $\\gamma_0 = P^0_\\#\\gamma = \\rho_0$ and $\\gamma_1 =P^1_\\#\\gamma = \\rho_1$ (which is equivalent to penalizing with a function $G(\\mu) = \\imath_{\\rho_1}(\\mu)$).\n",
    "\n",
    "The application $H$ is the Kullback-Leibler divergence\n",
    "$$\n",
    "    H(\\alpha|\\beta) = \\sum_x\\left(\n",
    "    \\alpha(x) \\log\\left(\\frac{\\alpha(x)}{\\beta(x)}\\right)\n",
    "    - \\alpha(x) + \\beta(x)\n",
    "    \\right)\n",
    "$$"
   ]
  },
  {
   "cell_type": "markdown",
   "metadata": {},
   "source": [
    "$R = R_{0,1}$ is the marginal of the 2D Wiener measure at times $t=0,1$, which is given by the Gaussian kernel\n",
    "$$\n",
    "    R(x,y) = G_1(y_1-x_1)G_1(y_2-x_2)\n",
    "$$\n",
    "where $G_t \\sim \\mathcal N(0,t)$."
   ]
  },
  {
   "cell_type": "code",
   "execution_count": 29,
   "metadata": {},
   "outputs": [],
   "source": [
    "from scipy.stats import norm\n",
    "from scipy.spatial import distance"
   ]
  },
  {
   "cell_type": "markdown",
   "metadata": {},
   "source": [
    "Convolution with respect to this kernel can be computed fast."
   ]
  },
  {
   "cell_type": "code",
   "execution_count": 30,
   "metadata": {},
   "outputs": [
    {
     "data": {
      "text/plain": [
       "(81, 81)"
      ]
     },
     "execution_count": 30,
     "metadata": {},
     "output_type": "execute_result"
    }
   ],
   "source": [
    "# x-direction kernel\n",
    "cost_mat1 = distance.cdist(xar[:, None],\n",
    "                           xar[:, None])  # distance between 1st-coordinates\n",
    "# Gaussian PDF applied element-wise\n",
    "K1 = norm.pdf(cost_mat1)\n",
    "\n",
    "K1.shape"
   ]
  },
  {
   "cell_type": "code",
   "execution_count": 31,
   "metadata": {},
   "outputs": [],
   "source": [
    "K_kernel = lambda x: np.dot(K1 @ x, K1)"
   ]
  },
  {
   "cell_type": "code",
   "execution_count": 32,
   "metadata": {},
   "outputs": [
    {
     "data": {
      "image/png": "[encoded data removed]",
      "text/plain": [
       "<Figure size 480x400 with 1 Axes>"
      ]
     },
     "metadata": {
      "needs_background": "light"
     },
     "output_type": "display_data"
    }
   ],
   "source": [
    "plt.imshow(K1, origin='lower', interpolation='none')\n",
    "plt.xlabel(\"$x_1$\")\n",
    "plt.ylabel(\"$y_1$\");"
   ]
  },
  {
   "cell_type": "markdown",
   "metadata": {},
   "source": [
    "The appropriate iterative Bregman algorithm consists in KL-projecting the kernel $R$ alternatively on the constraints.\n",
    "\n",
    "This leads to the usual Sinkhorn iterations."
   ]
  },
  {
   "cell_type": "code",
   "execution_count": 33,
   "metadata": {},
   "outputs": [],
   "source": [
    "n_iter = 100\n",
    "\n",
    "u0 = np.ones_like(rho_0)\n",
    "u1 = np.ones_like(rho_tgt)\n",
    "\n",
    "for n in range(n_iter):\n",
    "    u0[:] = rho_0 / K_kernel(u1)\n",
    "    u1[:] = rho_tgt / K_kernel(u0)"
   ]
  },
  {
   "cell_type": "code",
   "execution_count": 34,
   "metadata": {},
   "outputs": [
    {
     "data": {
      "image/png": "[encoded data removed]",
      "text/plain": [
       "<Figure size 720x560 with 2 Axes>"
      ]
     },
     "metadata": {
      "needs_background": "light"
     },
     "output_type": "display_data"
    }
   ],
   "source": [
    "plt.figure(frameon=False, figsize=(9,7))\n",
    "ax = plt.subplot(121)\n",
    "plot_measure(u0, ax)\n",
    "plot_domain(domain_img, ax)\n",
    "ax.set_title(\"Dual potential $u_0$\")\n",
    "plt.axis('off');\n",
    "\n",
    "ax = plt.subplot(122)\n",
    "plot_measure(u1, ax)\n",
    "plot_domain(domain_img, ax)\n",
    "ax.set_title(\"Dual potential $u_1$\")\n",
    "plt.axis('off');"
   ]
  },
  {
   "cell_type": "markdown",
   "metadata": {},
   "source": [
    "## Transport with fuzzy target"
   ]
  },
  {
   "cell_type": "markdown",
   "metadata": {},
   "source": [
    "Given a marginal $\\rho_0$, we now solve\n",
    "$$\n",
    "    \\inf_\\gamma H(\\gamma | R) + G(P^1_\\#\\gamma)\n",
    "$$\n",
    "subject to $P^0_\\#\\gamma = \\rho_0$, and with the penalty functional\n",
    "$$\n",
    "    G(\\mu) = \\int_\\Omega \\Psi(x)\\,\\dif\\mu(x)\n",
    "$$"
   ]
  },
  {
   "cell_type": "markdown",
   "metadata": {},
   "source": [
    "We can use the potential $\\Psi$ to target a desired distribution, as a relaxation of the former hard-constraint problem."
   ]
  },
  {
   "cell_type": "markdown",
   "metadata": {},
   "source": [
    "### Defining a potential $\\Psi$"
   ]
  },
  {
   "cell_type": "markdown",
   "metadata": {},
   "source": [
    "The first case is\n",
    "$$\n",
    "    \\Psi(x) = d(x, \\mathscr{A})^2\n",
    "$$\n",
    "where $\\mathscr{A}$ is a subset of $\\Omega$."
   ]
  },
  {
   "cell_type": "code",
   "execution_count": 180,
   "metadata": {},
   "outputs": [],
   "source": [
    "grid_arr_ = np.dstack([xg, yg])\n",
    "\n",
    "grid_arr_flat = grid_arr_.reshape(nx*nx, 2)"
   ]
  },
  {
   "cell_type": "code",
   "execution_count": 208,
   "metadata": {},
   "outputs": [],
   "source": [
    "target_mask = ((grid_arr_flat[:,0] <= 0.6) &\n",
    "               (grid_arr_flat[:,0] >= 0.35) &\n",
    "               (grid_arr_flat[:,1] <= 0.05))\n",
    "\n",
    "\n",
    "target_points = grid_arr_flat[target_mask]"
   ]
  },
  {
   "cell_type": "code",
   "execution_count": 217,
   "metadata": {},
   "outputs": [
    {
     "data": {
      "image/png": "[encoded data removed]",
      "text/plain": [
       "<Figure size 480x400 with 1 Axes>"
      ]
     },
     "metadata": {
      "needs_background": "light"
     },
     "output_type": "display_data"
    }
   ],
   "source": [
    "plot_domain(domain_img)\n",
    "ylim = plt.ylim()\n",
    "plt.scatter(*target_points.T, s=15)\n",
    "plt.ylim(*ylim)\n",
    "plt.axis('off');"
   ]
  },
  {
   "cell_type": "code",
   "execution_count": 218,
   "metadata": {},
   "outputs": [
    {
     "data": {
      "image/png": "[encoded data removed]",
      "text/plain": [
       "<Figure size 480x400 with 1 Axes>"
      ]
     },
     "metadata": {
      "needs_background": "light"
     },
     "output_type": "display_data"
    }
   ],
   "source": [
    "all_dists_ = distance.cdist(grid_arr_flat, target_points)\n",
    "\n",
    "dist_to_target = all_dists_.min(axis=1)\n",
    "dist_to_target = dist_to_target.reshape(nx, nx)\n",
    "\n",
    "psi_potential_ = dist_to_target ** 2\n",
    "\n",
    "fig, ax = plt.subplots(frameon=False)\n",
    "ax.contourf(xg, yg, psi_potential_, levels=50, alpha=.9)\n",
    "\n",
    "plot_domain(domain_img, ax)\n",
    "plt.title(\"Domain and potential $\\\\Psi$\")\n",
    "plt.axis('off');"
   ]
  },
  {
   "cell_type": "markdown",
   "metadata": {},
   "source": [
    "The discretized problem\n",
    "$$\n",
    "\\begin{aligned}\n",
    "    &\\inf_\\gamma H(\\gamma|R) + \\langle \\Psi, \\gamma^T\\mathbf 1\\rangle\\\\\n",
    "    \\text{s.t.}\\ & \\rho_0 = \\gamma\\mathbf 1\n",
    "\\end{aligned}\n",
    "$$\n",
    "can be shown to have a closed-form solution. Indeed, solving this convex problem leads to the following optimality condition:\n",
    "\\\\[\n",
    "\\begin{aligned}\n",
    "    \\gamma^* &= R \\odot (u_0^* \\otimes e^{-\\Psi}) \\\\\n",
    "    u_0^* &= \\frac{\\rho_0}{Re^{-\\Psi}}\n",
    "\\end{aligned}\n",
    "\\\\]"
   ]
  },
  {
   "cell_type": "markdown",
   "metadata": {},
   "source": [
    "Then, we get the final distribution $\\rho_1$ as\n",
    "$$\n",
    "    \\rho_1 = (\\gamma^*)^T\\mathbf 1\n",
    "    = e^{-\\Psi} \\odot Ru_0^*\n",
    "$$"
   ]
  },
  {
   "cell_type": "code",
   "execution_count": 234,
   "metadata": {},
   "outputs": [],
   "source": [
    "u0 = rho_0 / K_kernel(np.exp(-psi_potential_))\n",
    "\n",
    "rho_final = np.exp(-psi_potential_) * (K_kernel(u0))"
   ]
  },
  {
   "cell_type": "code",
   "execution_count": 252,
   "metadata": {},
   "outputs": [
    {
     "data": {
      "image/png": "[encoded data removed]",
      "text/plain": [
       "<Figure size 720x720 with 2 Axes>"
      ]
     },
     "metadata": {
      "needs_background": "light"
     },
     "output_type": "display_data"
    }
   ],
   "source": [
    "fig = plt.figure(figsize=(8, 8), dpi=90)\n",
    "\n",
    "alpha_m = 0.8\n",
    "plt.subplot(121)\n",
    "plot_measure(u0, cmap=cm.jet, alpha=alpha_m)\n",
    "plot_domain(domain_img)\n",
    "plt.title(\"Initial distribution $\\\\rho_0$\")\n",
    "plt.axis('off');\n",
    "\n",
    "plt.subplot(122)\n",
    "plot_measure(rho_final, cmap=cm.jet, alpha=alpha_m)\n",
    "plot_domain(domain_img)\n",
    "plt.title(\"Reached final distribution $\\\\rho_1$\")\n",
    "plt.axis('off');"
   ]
  },
  {
   "cell_type": "code",
   "execution_count": 249,
   "metadata": {},
   "outputs": [
    {
     "data": {
      "image/png": "[encoded data removed]",
      "text/plain": [
       "<Figure size 720x720 with 2 Axes>"
      ]
     },
     "execution_count": 249,
     "metadata": {},
     "output_type": "execute_result"
    }
   ],
   "source": [
    "fig"
   ]
  },
  {
   "cell_type": "markdown",
   "metadata": {},
   "source": [
    "### Adding the domain as obstacles"
   ]
  },
  {
   "cell_type": "markdown",
   "metadata": {},
   "source": [
    "We can decompose the function $G$ as the sum of the potential $\\Psi$ and a hard constraint:\n",
    "$$\n",
    "    G = G_1 + G_2\\ \\text{with}\\\n",
    "$$\n",
    "with\n",
    "$$\n",
    "    \\begin{aligned}\n",
    "    G_1(\\mu) &= \\int_\\Omega\\Psi(x) \\, \\dif\\mu(x) \\\\\n",
    "    G_2(\\mu) &= \\int_\\Omega V(x)\\, \\dif\\mu(x)\n",
    "    \\end{aligned}\n",
    "$$"
   ]
  },
  {
   "cell_type": "markdown",
   "metadata": {},
   "source": [
    "Where $V$ is the indicatrix of the obstacles\n",
    "$$\n",
    "    V(x) = \\begin{cases}\n",
    "    \\infty &\\text{ if } x\\in\\mathscr O \\\\\n",
    "    0 &\\text{ otherwise}\n",
    "    \\end{cases}\n",
    "$$"
   ]
  },
  {
   "cell_type": "markdown",
   "metadata": {},
   "source": [
    "We can see that $G_2$ is the convex indicatrix of the set of measures $\\mu$ with support in $\\Omega\\backslash \\mathscr O$.\n",
    "\n",
    "The discretized problem is then\n",
    "$$\n",
    "\\begin{aligned}\n",
    "    &\\inf_{\\gamma,\\rho_1} H(\\gamma|R) + \\langle \\Psi, \\rho_1 \\rangle \\\\\n",
    "    \\text{s.t.}\\ & \\gamma \\mathbf{1} = \\rho_0  \\\\\n",
    "    & \\gamma^T\\mathbf 1 = \\rho_1   \\\\\n",
    "    & \\rho_1\\odot \\mathbf 1_{\\mathscr{O}} = 0 \n",
    "\\end{aligned}\n",
    "$$\n"
   ]
  },
  {
   "cell_type": "code",
   "execution_count": null,
   "metadata": {},
   "outputs": [],
   "source": []
  },
  {
   "cell_type": "code",
   "execution_count": null,
   "metadata": {},
   "outputs": [],
   "source": []
  },
  {
   "cell_type": "code",
   "execution_count": null,
   "metadata": {},
   "outputs": [],
   "source": []
  },
  {
   "cell_type": "code",
   "execution_count": null,
   "metadata": {},
   "outputs": [],
   "source": []
  }
 ],
 "metadata": {
  "kernelspec": {
   "display_name": "Python 3",
   "language": "python",
   "name": "python3"
  },
  "language_info": {
   "codemirror_mode": {
    "name": "ipython",
    "version": 3
   },
   "file_extension": ".py",
   "mimetype": "text/x-python",
   "name": "python",
   "nbconvert_exporter": "python",
   "pygments_lexer": "ipython3",
   "version": "3.7.3"
  }
 },
 "nbformat": 4,
 "nbformat_minor": 4
}
