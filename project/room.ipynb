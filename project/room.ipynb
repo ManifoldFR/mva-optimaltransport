{
 "cells": [
  {
   "cell_type": "code",
   "execution_count": 1,
   "metadata": {},
   "outputs": [],
   "source": [
    "%load_ext autoreload\n",
    "%autoreload 2\n",
    "\n",
    "import sys\n",
    "import itertools\n",
    "import utils\n",
    "import numpy as np\n",
    "import cvxpy as cvx\n",
    "import matplotlib.pyplot as plt\n",
    "\n",
    "from matplotlib import cm"
   ]
  },
  {
   "cell_type": "code",
   "execution_count": 2,
   "metadata": {},
   "outputs": [],
   "source": [
    "plt.rcParams['figure.figsize'] = (5, 5)\n",
    "plt.rcParams['figure.dpi'] = 80"
   ]
  },
  {
   "cell_type": "markdown",
   "metadata": {},
   "source": [
    "# Room setup\n",
    "\n",
    "We define a domain $\\Omega$ and obstacles $\\mathscr{O}$.\n",
    "\n",
    "$\\newcommand{\\NN}{\\mathbb N}$\n",
    "$\\newcommand{\\RR}{\\mathbb R}$\n",
    "$\\newcommand{\\dif}{\\mathrm{d}}$\n",
    "$\\renewcommand{\\epsilon}{\\varepsilon}$\n",
    "$\\renewcommand{\\phi}{\\varphi}$\n",
    "$\\newcommand{\\suchthat}{\\mathrm{s.t.}}$\n",
    "$$\n",
    "\\DeclareMathOperator{\\supp}{supp}\n",
    "\\DeclareMathOperator*{\\argmin}{argmin}\n",
    "\\DeclareMathOperator*{\\argmax}{argmax}\n",
    "$$\n",
    "$\\DeclareMathOperator{\\divg}{div}$\n",
    "$\\DeclareMathOperator{\\supp}{supp}$\n",
    "$\\DeclareMathOperator{\\KL}{KL}$\n",
    "$\\DeclareMathOperator{\\prox}{prox}$"
   ]
  },
  {
   "cell_type": "code",
   "execution_count": 3,
   "metadata": {},
   "outputs": [],
   "source": [
    "nx = 101\n",
    "xar = np.linspace(0, 1, nx)\n",
    "xg, yg = np.meshgrid(xar, xar)\n",
    "\n",
    "extent = [0, 1, 0, 1]"
   ]
  },
  {
   "cell_type": "code",
   "execution_count": 5,
   "metadata": {},
   "outputs": [],
   "source": [
    "def plot_domain(mask, cax=None, cmap=cm.Greys, extent=extent, **kwargs):\n",
    "    \"\"\"Plot the domain in black & white\"\"\"\n",
    "    if cax is None:\n",
    "        cax = plt.gca()\n",
    "    if not 'alpha' in kwargs:\n",
    "        kwargs['alpha'] = 0.62\n",
    "    kwargs['cmap'] = cmap\n",
    "    return cax.imshow(mask, origin='lower', extent=extent,\n",
    "               interpolation='none', zorder=5, **kwargs)\n",
    "\n",
    "def plot_measure(a, cax=None, cmap=cm.viridis, extent=extent, **kwargs):\n",
    "    if cax is None:\n",
    "        cax = plt.gca()\n",
    "    kwargs['cmap'] = cmap\n",
    "    return cax.imshow(a, origin='lower', extent=extent,\n",
    "               interpolation='none', **kwargs)\n",
    "\n",
    "def send_zero_transparent(a):\n",
    "    res = np.zeros((nx,nx,4))\n",
    "    res[..., 3] = a/a.max()\n",
    "    return res"
   ]
  },
  {
   "cell_type": "code",
   "execution_count": 413,
   "metadata": {},
   "outputs": [],
   "source": [
    "# Obstacle domain\n",
    "mask = ((0.64 <= yg) & (yg <= 0.7)) & (xg <= 0.75)\n",
    "mask[:] = mask | ((0.3 <= yg) & (yg <= 0.34)) &\\\n",
    "    ((xg <= 0.10) | (xg >= 0.24) | ((xg >= 0.14) & (xg <= 0.2)))\n",
    "mask[:] = mask | ((xg <= 0.015) | (xg >= 0.985))\n",
    "mask[:] = mask | ((yg >= 0.985))\n",
    "mask[:] = mask | ((yg <= 0.015) & ((xg <= 0.64) | (xg >= 0.8)))\n",
    "mask[:] = mask | ((np.abs(xg - 0.7) < 0.1) & (np.abs(yg - 0.6) < 0.1))\n",
    "mask[:] = mask | ((np.abs(xg - 0.34) < 0.02) & (np.abs(yg - 0.2) < 0.1))\n",
    "\n",
    "obstacle_idx = np.argwhere(mask)\n",
    "\n",
    "domain_img = np.zeros((nx, nx, 4))\n",
    "domain_img[mask, 3] = 1."
   ]
  },
  {
   "cell_type": "code",
   "execution_count": 414,
   "metadata": {},
   "outputs": [
    {
     "data": {
      "image/png": "[encoded data removed]",
      "text/plain": [
       "<Figure size 400x400 with 1 Axes>"
      ]
     },
     "metadata": {
      "needs_background": "light"
     },
     "output_type": "display_data"
    }
   ],
   "source": [
    "fig = plt.figure()\n",
    "plot_domain(domain_img)\n",
    "plt.title(\"Domain $\\\\Omega$ and obstacles $\\\\mathscr{O}$\")\n",
    "plt.axis('off');"
   ]
  },
  {
   "cell_type": "code",
   "execution_count": 415,
   "metadata": {},
   "outputs": [],
   "source": [
    "fig.savefig(\"images/escape_domain.png\")"
   ]
  },
  {
   "cell_type": "markdown",
   "metadata": {},
   "source": [
    "# Standard two-measure transport problem"
   ]
  },
  {
   "cell_type": "markdown",
   "metadata": {},
   "source": [
    "## Initial and target distributions"
   ]
  },
  {
   "cell_type": "code",
   "execution_count": 416,
   "metadata": {},
   "outputs": [
    {
     "data": {
      "image/png": "[encoded data removed]",
      "text/plain": [
       "<Figure size 400x400 with 1 Axes>"
      ]
     },
     "metadata": {
      "needs_background": "light"
     },
     "output_type": "display_data"
    }
   ],
   "source": [
    "rho_0 = (np.abs(xg - 0.25) <= 0.08) & (np.abs(yg - 0.85) <= 0.08)\n",
    "rho_0 = rho_0.astype(np.float64)\n",
    "rho_0 /= rho_0.sum()  # normalize the density\n",
    "\n",
    "fig, ax = plt.subplots()\n",
    "\n",
    "plot_measure(rho_0, ax)\n",
    "plot_domain(domain_img, ax)\n",
    "plt.axis('off');\n"
   ]
  },
  {
   "cell_type": "code",
   "execution_count": 417,
   "metadata": {},
   "outputs": [
    {
     "data": {
      "image/png": "[encoded data removed]",
      "text/plain": [
       "<Figure size 400x400 with 1 Axes>"
      ]
     },
     "metadata": {
      "needs_background": "light"
     },
     "output_type": "display_data"
    }
   ],
   "source": [
    "rho_tgt = (np.abs(xg - 0.65) <= 0.08) & (np.abs(yg - 0.15) <= 0.08)\n",
    "rho_tgt = rho_tgt.astype(np.float64)\n",
    "rho_tgt /= rho_tgt.sum()  # normalize the density\n",
    "\n",
    "fig, ax = plt.subplots()\n",
    "\n",
    "plot_measure(rho_tgt, ax);\n",
    "plot_domain(domain_img, ax)\n",
    "plt.axis('off');"
   ]
  },
  {
   "cell_type": "markdown",
   "metadata": {},
   "source": [
    "## Problem setup"
   ]
  },
  {
   "cell_type": "markdown",
   "metadata": {},
   "source": [
    "We first seek to minimize the following transport problem\n",
    "$$\n",
    "    \\min_{\\gamma} H(\\gamma | R)\n",
    "$$\n",
    "subject to $\\gamma_0 = P^0_\\#\\gamma = \\rho_0$ and $\\gamma_1 =P^1_\\#\\gamma = \\rho_1$ (which is equivalent to penalizing with a function $G(\\mu) = \\imath_{\\rho_1}(\\mu)$).\n",
    "\n",
    "The application $H$ is the Kullback-Leibler divergence\n",
    "$$\n",
    "    H(\\alpha|\\beta) = \\sum_x\\left(\n",
    "    \\alpha(x) \\log\\left(\\frac{\\alpha(x)}{\\beta(x)}\\right)\n",
    "    - \\alpha(x) + \\beta(x)\n",
    "    \\right) =\n",
    "    \\left\\langle \\alpha, \\log\\frac\\alpha\\beta \\right\\rangle - \\langle \\alpha,\\mathbf 1\\rangle\n",
    "    + \\langle\\beta, \\mathbf 1\\rangle\n",
    "$$"
   ]
  },
  {
   "cell_type": "markdown",
   "metadata": {},
   "source": [
    "$R = R_{0,1}$ is the marginal of the 2D Wiener measure at times $t=0,1$, which is given by the Gaussian kernel\n",
    "$$\n",
    "    R(x,y) = G_1(y_1-x_1)G_1(y_2-x_2)\n",
    "$$\n",
    "where $G_t \\sim \\mathcal N(0,t)$."
   ]
  },
  {
   "cell_type": "code",
   "execution_count": 418,
   "metadata": {},
   "outputs": [],
   "source": [
    "from scipy.stats import norm\n",
    "from scipy.spatial import distance"
   ]
  },
  {
   "cell_type": "markdown",
   "metadata": {},
   "source": [
    "Convolution with respect to this kernel can be computed fast."
   ]
  },
  {
   "cell_type": "code",
   "execution_count": 419,
   "metadata": {},
   "outputs": [
    {
     "data": {
      "text/plain": [
       "(101, 101)"
      ]
     },
     "execution_count": 419,
     "metadata": {},
     "output_type": "execute_result"
    }
   ],
   "source": [
    "# x-direction kernel\n",
    "cost_mat1 = distance.cdist(xar[:, None],\n",
    "                           xar[:, None])  # distance between 1st-coordinates\n",
    "# Gaussian PDF applied element-wise\n",
    "K1 = norm.pdf(cost_mat1)\n",
    "K1.shape"
   ]
  },
  {
   "cell_type": "code",
   "execution_count": 420,
   "metadata": {},
   "outputs": [],
   "source": [
    "K_kernel = lambda x: np.dot(K1 @ x, K1)"
   ]
  },
  {
   "cell_type": "code",
   "execution_count": 421,
   "metadata": {},
   "outputs": [
    {
     "data": {
      "image/png": "[encoded data removed]",
      "text/plain": [
       "<Figure size 400x400 with 1 Axes>"
      ]
     },
     "metadata": {
      "needs_background": "light"
     },
     "output_type": "display_data"
    }
   ],
   "source": [
    "plt.imshow(K1, origin='lower', interpolation='none')\n",
    "plt.xlabel(\"$x_1$\")\n",
    "plt.ylabel(\"$y_1$\");"
   ]
  },
  {
   "cell_type": "markdown",
   "metadata": {},
   "source": [
    "The appropriate iterative Bregman algorithm consists in KL-projecting the kernel $R$ alternatively on the constraints.\n",
    "\n",
    "This leads to the usual Sinkhorn iterations."
   ]
  },
  {
   "cell_type": "code",
   "execution_count": 422,
   "metadata": {},
   "outputs": [],
   "source": [
    "n_iter = 100\n",
    "\n",
    "u0 = np.ones_like(rho_0)\n",
    "u1 = np.ones_like(rho_tgt)\n",
    "\n",
    "for n in range(n_iter):\n",
    "    u0[:] = rho_0 / K_kernel(u1)\n",
    "    u1[:] = rho_tgt / K_kernel(u0)"
   ]
  },
  {
   "cell_type": "code",
   "execution_count": 423,
   "metadata": {},
   "outputs": [
    {
     "data": {
      "image/png": "[encoded data removed]",
      "text/plain": [
       "<Figure size 720x320 with 2 Axes>"
      ]
     },
     "metadata": {
      "needs_background": "light"
     },
     "output_type": "display_data"
    }
   ],
   "source": [
    "plt.figure(frameon=False, figsize=(9,4))\n",
    "ax = plt.subplot(121)\n",
    "plot_measure(u0, ax, cmap=cm.Blues)\n",
    "plot_domain(domain_img, ax)\n",
    "ax.set_title(\"Dual potential $u_0$\")\n",
    "plt.axis('off');\n",
    "\n",
    "ax = plt.subplot(122)\n",
    "plot_measure(u1, ax, cmap=cm.Blues)\n",
    "plot_domain(domain_img, ax)\n",
    "ax.set_title(\"Dual potential $u_1$\")\n",
    "plt.axis('off');\n",
    "\n",
    "plt.suptitle(\"Plot of the dual potentials\");"
   ]
  },
  {
   "cell_type": "markdown",
   "metadata": {},
   "source": [
    "# Transport with fuzzy target"
   ]
  },
  {
   "cell_type": "markdown",
   "metadata": {},
   "source": [
    "We start to move towards a mean-field control problem.\n",
    "\n",
    "Given a marginal $\\rho_0$, we now solve\n",
    "$$\n",
    "    \\inf_\\gamma H(\\gamma | R) + G(P^1_\\#\\gamma)\n",
    "$$\n",
    "subject to $P^0_\\#\\gamma = \\rho_0$, and with the penalty functional\n",
    "$$\n",
    "    G(\\mu) = \\int_\\Omega \\Psi(x)\\,\\dif\\mu(x)\n",
    "$$\n",
    "\n",
    "We can use the potential $\\Psi$ to target a desired distribution, as a relaxation of the former hard-constraint problem."
   ]
  },
  {
   "cell_type": "markdown",
   "metadata": {},
   "source": [
    "## Defining a potential $\\Psi$"
   ]
  },
  {
   "cell_type": "markdown",
   "metadata": {},
   "source": [
    "We take\n",
    "$$\n",
    "    \\Psi(x) = d(x, \\mathscr{A})^2\n",
    "$$\n",
    "where $\\mathscr{A}$ is a set."
   ]
  },
  {
   "cell_type": "code",
   "execution_count": 424,
   "metadata": {},
   "outputs": [],
   "source": [
    "grid_arr_ = np.dstack([xg, yg])\n",
    "grid_arr_flat = grid_arr_.reshape(nx*nx, 2)"
   ]
  },
  {
   "cell_type": "code",
   "execution_count": 425,
   "metadata": {},
   "outputs": [],
   "source": [
    "target_mask = ((grid_arr_flat[:,0] >= 0.75) &\n",
    "               (grid_arr_flat[:,0] <= 0.8) &\n",
    "               (grid_arr_flat[:,1] >= 0.1) &\n",
    "               (grid_arr_flat[:,1] <= 0.15))\n",
    "\n",
    "\n",
    "target_points = grid_arr_flat[target_mask]"
   ]
  },
  {
   "cell_type": "code",
   "execution_count": 426,
   "metadata": {},
   "outputs": [
    {
     "data": {
      "image/png": "[encoded data removed]",
      "text/plain": [
       "<Figure size 400x400 with 1 Axes>"
      ]
     },
     "metadata": {
      "needs_background": "light"
     },
     "output_type": "display_data"
    }
   ],
   "source": [
    "plot_domain(domain_img)\n",
    "ylim = plt.ylim()\n",
    "plt.scatter(*target_points.T, s=15, label='Target $A$')\n",
    "plt.legend()\n",
    "plt.axis('off');"
   ]
  },
  {
   "cell_type": "code",
   "execution_count": 427,
   "metadata": {},
   "outputs": [
    {
     "data": {
      "image/png": "[encoded data removed]",
      "text/plain": [
       "<Figure size 400x400 with 2 Axes>"
      ]
     },
     "metadata": {
      "needs_background": "light"
     },
     "output_type": "display_data"
    }
   ],
   "source": [
    "all_dists_ = distance.cdist(grid_arr_flat, target_points)\n",
    "\n",
    "dist_to_target = all_dists_.min(axis=1)\n",
    "dist_to_target = dist_to_target.reshape(nx, nx)\n",
    "\n",
    "beta = 0.9\n",
    "psi_potential_ = dist_to_target ** beta\n",
    "\n",
    "fig, ax = plt.subplots()\n",
    "cf_ = ax.contourf(xg, yg, psi_potential_, levels=50, alpha=.9)\n",
    "fig.colorbar(cf_)\n",
    "\n",
    "plot_domain(domain_img, ax)\n",
    "plt.axis('off');\n",
    "\n",
    "plt.title(\"Domain and potential $\\\\Psi$ ($\\\\beta=%.2f$)\" % beta);\n",
    "fig.tight_layout();"
   ]
  },
  {
   "cell_type": "code",
   "execution_count": 428,
   "metadata": {},
   "outputs": [],
   "source": [
    "fig.savefig(\"images/crowd_potential.png\", dpi='figure')"
   ]
  },
  {
   "cell_type": "markdown",
   "metadata": {},
   "source": [
    "The discretized problem\n",
    "$$\n",
    "\\begin{aligned}\n",
    "    &\\inf_\\gamma H(\\gamma|R) + \\langle \\Psi, \\gamma^T\\mathbf 1\\rangle\\\\\n",
    "    \\text{s.t.}\\ & \\rho_0 = \\gamma\\mathbf 1\n",
    "\\end{aligned}\n",
    "$$\n",
    "can be shown to have a closed-form solution. Indeed, solving this convex problem leads to the following optimality condition:\n",
    "\\\\[\n",
    "\\begin{aligned}\n",
    "    \\gamma^* &= R \\odot (e^{u_0^*} \\otimes e^{-\\Psi}) \\\\\n",
    "    e^{u_0^*} &= \\frac{\\rho_0}{Re^{-\\Psi}}\n",
    "\\end{aligned}\n",
    "\\\\]"
   ]
  },
  {
   "cell_type": "markdown",
   "metadata": {},
   "source": [
    "Then, we get the final distribution $\\rho_1$ as\n",
    "$$\n",
    "    \\rho_1 = (\\gamma^*)^T\\mathbf 1\n",
    "    = e^{-\\Psi} \\odot R e^{u_0^*}\n",
    "$$"
   ]
  },
  {
   "cell_type": "code",
   "execution_count": 429,
   "metadata": {},
   "outputs": [
    {
     "name": "stdout",
     "output_type": "stream",
     "text": [
      "Total mass: 1.0\n",
      "Mass is zero on mask: False\n"
     ]
    }
   ],
   "source": [
    "u0 = rho_0 / K_kernel(np.exp(-psi_potential_))\n",
    "rho_final = np.exp(-psi_potential_) * (K_kernel(u0))\n",
    "\n",
    "print(\"Total mass:\", rho_final.sum())\n",
    "\n",
    "# Check the Lagrange multiplier condition:\n",
    "print(\"Mass is zero on mask:\", np.allclose(rho_final * mask, 0))"
   ]
  },
  {
   "cell_type": "markdown",
   "metadata": {},
   "source": [
    "So we see the total mass is still $1$, but that there is mass contained on the obstacles (which was previsible, we did nothing to prevent that)."
   ]
  },
  {
   "cell_type": "code",
   "execution_count": 430,
   "metadata": {},
   "outputs": [
    {
     "name": "stdout",
     "output_type": "stream",
     "text": [
      "Amount on mass on mask: 0.19715392772507692\n"
     ]
    }
   ],
   "source": [
    "print(\"Amount on mass on mask:\", np.sum(rho_final * mask))"
   ]
  },
  {
   "cell_type": "code",
   "execution_count": 431,
   "metadata": {},
   "outputs": [
    {
     "data": {
      "image/png": "[encoded data removed]",
      "text/plain": [
       "<Figure size 400x400 with 1 Axes>"
      ]
     },
     "metadata": {
      "needs_background": "light"
     },
     "output_type": "display_data"
    }
   ],
   "source": [
    "#fig = plt.figure(figsize=(9, 8), dpi=90)\n",
    "fig = plt.figure()\n",
    "\n",
    "alphm = 0.95\n",
    "#plt.subplot(121)\n",
    "#plot_measure(rho_0, alpha=alphm)\n",
    "#plot_domain(domain_img)\n",
    "#plt.title(\"Initial distribution $\\\\rho_0$\")\n",
    "#plt.axis('off');\n",
    "\n",
    "#plt.subplot(122)\n",
    "plot_measure(rho_final, alpha=alphm)\n",
    "plot_domain(domain_img)\n",
    "plt.title(\"Final distribution $\\\\rho_1$\\n(no obstacle constraint)\")\n",
    "plt.axis('off');"
   ]
  },
  {
   "cell_type": "code",
   "execution_count": 432,
   "metadata": {},
   "outputs": [],
   "source": [
    "fig.savefig(\"images/fuzzy_transport_noobstacle.png\", bbox_inches='tight')"
   ]
  },
  {
   "cell_type": "markdown",
   "metadata": {},
   "source": [
    "## Adding the domain's obstacles"
   ]
  },
  {
   "cell_type": "markdown",
   "metadata": {},
   "source": [
    "We can decompose the final distribution criterion $G$ as the sum of the potential $\\Psi$ and a hard constraint:\n",
    "$$\n",
    "    G = G_1 + G_2\\ \\text{with}\\\n",
    "$$\n",
    "with\n",
    "$$\n",
    "    \\begin{aligned}\n",
    "    G_1(\\mu) &= \\int_\\Omega\\Psi(x) \\, \\dif\\mu(x) \\\\\n",
    "    G_2(\\mu) &= \\int_\\Omega V(x)\\, \\dif\\mu(x)\n",
    "    \\end{aligned}\n",
    "$$"
   ]
  },
  {
   "cell_type": "markdown",
   "metadata": {},
   "source": [
    "Where $V$ is the indicatrix of the obstacles\n",
    "$$\n",
    "    V(x) = \\begin{cases}\n",
    "    +\\infty &\\text{ if } x\\in\\mathscr O \\\\\n",
    "    0 &\\text{ otherwise}\n",
    "    \\end{cases}\n",
    "$$\n",
    "\n",
    "We can see that $G_2$ is the convex indicator of the set of measures $\\mu$ with support in $\\Omega\\backslash \\mathscr O$."
   ]
  },
  {
   "cell_type": "markdown",
   "metadata": {},
   "source": [
    "The discretized problem is then\n",
    "$$\n",
    "\\begin{aligned}\n",
    "    &\\inf_{\\gamma,\\rho_1} H(\\gamma|R) + \\langle \\Psi, \\rho_1 \\rangle \\\\\n",
    "    \\text{s.t.}\\ & \\gamma \\mathbf{1} = \\rho_0  \\\\\n",
    "    & \\gamma^T\\mathbf 1 = \\rho_1   \\\\\n",
    "    & \\rho_1(x) = 0 \\quad \\forall x \\in \\mathscr O \n",
    "\\end{aligned}\n",
    "$$\n",
    "\n",
    "\n",
    "Its dual is equivalent to\n",
    "$$\n",
    "    \\sup_{u_0, \\xi}~ q(u_0,\\xi) = \\left\\langle R, \\mathbf{1} - e^{-u_0\\oplus (\\Psi+\\xi)}\\right\\rangle - \\langle u_0,\\rho_0\\rangle\n",
    "$$\n",
    "where the Lagrange multiplier $\\xi$ is supported in $\\mathscr O$ (we set $\\xi(y) = 0$ for $y \\in \\Omega\\backslash\\mathscr O$).\n",
    "\n",
    "The optimum satisfies\n",
    "$$\n",
    "    e^{-u_0^*} = \\frac{\\rho_0}{R e^{-(\\Psi + \\xi^*)}}\n",
    "$$\n",
    "Writing the Euler condition leads to $\\xi^*(y) = +\\infty$ for all $y\\in\\mathscr O$, thus\n",
    "$$\n",
    "    e^{-u_0^*} = \\frac{\\rho_0}{R\\hat{\\mathbf v}}\n",
    "$$\n",
    "where $\\hat{\\mathbf{v}} = e^{-\\Psi}\\mathbf 1_{\\Omega\\backslash\\mathscr O}$.\n",
    "\n",
    "Then, the final distribution is given by\n",
    "$$\n",
    "    \\rho_1 = \\gamma^T\\mathbf 1 = \\hat\\psi \\odot Re^{u_0^*}\n",
    "$$"
   ]
  },
  {
   "cell_type": "code",
   "execution_count": 433,
   "metadata": {},
   "outputs": [
    {
     "name": "stdout",
     "output_type": "stream",
     "text": [
      "Total mass: 1.0\n",
      "Mass is zero on mask: True\n"
     ]
    }
   ],
   "source": [
    "## RECALL: mask is the indicatrix of obstacles\n",
    "psi_hat = (1-mask) * np.exp(-psi_potential_)\n",
    "u0 = rho_0 / K_kernel(psi_hat)  # potential u0\n",
    "\n",
    "rho_final = K_kernel(u0) * psi_hat\n",
    "\n",
    "print(\"Total mass:\", rho_final.sum())\n",
    "\n",
    "# Check the Lagrange multiplier condition:\n",
    "print(\"Mass is zero on mask:\", np.allclose(rho_final * mask, 0))"
   ]
  },
  {
   "cell_type": "code",
   "execution_count": 434,
   "metadata": {},
   "outputs": [
    {
     "data": {
      "image/png": "[encoded data removed]",
      "text/plain": [
       "<Figure size 810x720 with 2 Axes>"
      ]
     },
     "metadata": {
      "needs_background": "light"
     },
     "output_type": "display_data"
    }
   ],
   "source": [
    "fig = plt.figure(figsize=(9, 8), dpi=90)\n",
    "\n",
    "alphm = 0.95\n",
    "\n",
    "plt.subplot(121)\n",
    "plot_measure(rho_0, alpha=alphm)\n",
    "plot_domain(domain_img)\n",
    "plt.title(\"Initial distribution $\\\\rho_0$\")\n",
    "plt.axis('off')\n",
    "\n",
    "plt.subplot(122)\n",
    "plot_measure(rho_final, alpha=alphm)\n",
    "plot_domain(domain_img)\n",
    "plt.title(\"Final distribution $\\\\rho_1$\\n(obstacles are constrained)\")\n",
    "plt.axis('off');"
   ]
  },
  {
   "cell_type": "code",
   "execution_count": 435,
   "metadata": {},
   "outputs": [],
   "source": [
    "fig.savefig(\"images/fuzzy_transport_withobstacle.png\", bbox_inches='tight')"
   ]
  },
  {
   "cell_type": "markdown",
   "metadata": {},
   "source": [
    "## Viscosity parameter"
   ]
  },
  {
   "cell_type": "markdown",
   "metadata": {},
   "source": [
    "We now want to approximate the MFG problem\n",
    "$$\n",
    "\\begin{align}\n",
    "    -\\partial_tu -\\frac{\\sigma^2}{2}\\Delta u + \\frac12|\\nabla u|^2 &= f[\\rho_t] \\\\\n",
    "    \\partial_t\\rho - \\frac{\\sigma^2}{2}\\Delta\\rho - \\divg(\\rho\\nabla u) &= 0\\\\\n",
    "    \\rho_0 \\text{ given}& \\\\\n",
    "    u(T, \\cdot) = g[\\rho_T]&\n",
    "\\end{align}\n",
    "$$"
   ]
  },
  {
   "cell_type": "markdown",
   "metadata": {},
   "source": [
    "We set $\\epsilon = \\sigma^2$. The MFG-OT problem is then given as\n",
    "$$\n",
    "\\begin{aligned}\n",
    "    &\\inf_{\\gamma,\\rho_1} \\epsilon H(\\gamma | R_\\epsilon) + G(\\rho_1) \\\\\n",
    "    \\suchthat \\ & P^1_\\#\\gamma = \\rho_1\n",
    "\\end{aligned}\n",
    "$$"
   ]
  },
  {
   "cell_type": "code",
   "execution_count": 436,
   "metadata": {},
   "outputs": [
    {
     "name": "stdout",
     "output_type": "stream",
     "text": [
      "Epsilon: 0.16000000000000003\n"
     ]
    }
   ],
   "source": [
    "sigma = 0.4\n",
    "epsilon = sigma ** 2\n",
    "print(\"Epsilon:\", epsilon)\n",
    "## New epsilon-kernel\n",
    "K1_eps = norm.pdf(cost_mat1, scale=sigma)\n",
    "\n",
    "K_eps_op = lambda x: np.dot(K1_eps @ x, K1_eps)"
   ]
  },
  {
   "cell_type": "code",
   "execution_count": 437,
   "metadata": {},
   "outputs": [
    {
     "name": "stdout",
     "output_type": "stream",
     "text": [
      "Total final mass: 0.9999999999999999\n"
     ]
    }
   ],
   "source": [
    "psi_hat = (1 - mask) * np.exp(-psi_potential_ / epsilon)\n",
    "\n",
    "u0_eps = rho_0 / K_eps_op(psi_hat)\n",
    "\n",
    "rho_final = psi_hat * K_eps_op(u0_eps)\n",
    "\n",
    "print(\"Total final mass:\", rho_final.sum())"
   ]
  },
  {
   "cell_type": "code",
   "execution_count": 438,
   "metadata": {},
   "outputs": [
    {
     "data": {
      "image/png": "[encoded data removed]",
      "text/plain": [
       "<Figure size 400x400 with 1 Axes>"
      ]
     },
     "metadata": {
      "needs_background": "light"
     },
     "output_type": "display_data"
    }
   ],
   "source": [
    "#fig = plt.figure(figsize=(9, 8), dpi=90)\n",
    "fig = plt.figure()\n",
    "\"\"\"plt.subplot(121)\n",
    "plot_measure(rho_0)\n",
    "plot_domain(domain_img)\n",
    "plt.axis('off')\n",
    "plt.title(\"Initial distribution $\\\\rho_0$\")\n",
    "\n",
    "plt.subplot(122)\n",
    "\"\"\"\n",
    "plot_measure(rho_final)\n",
    "plot_domain(domain_img)\n",
    "plt.title(\"Final distribution $\\\\rho_1$\\n($\\sigma=%.2f$, $\\\\epsilon=%.2f$)\"\n",
    "          % (sigma,epsilon))\n",
    "plt.axis('off');"
   ]
  },
  {
   "cell_type": "code",
   "execution_count": 439,
   "metadata": {},
   "outputs": [],
   "source": [
    "fig.savefig(\"images/fuzzy_transport_lowvisc.png\",\n",
    "            dpi='figure', bbox_inches='tight')"
   ]
  },
  {
   "cell_type": "markdown",
   "metadata": {},
   "source": [
    "## \"Smarter\" potential function"
   ]
  },
  {
   "cell_type": "markdown",
   "metadata": {},
   "source": [
    "We see from the previous examples that the "
   ]
  },
  {
   "cell_type": "markdown",
   "metadata": {},
   "source": [
    "We will use a new potential function $\\Psi$ obtained by solving the Eikonal equation with a given target set $\\Gamma$\n",
    "$$\n",
    "\\begin{aligned}\n",
    "    &|\\nabla\\Psi(x)|^2 = 1/f(x) \\\\\n",
    "    &\\Psi(x) = 0\\ \\text{ on }\\Gamma\n",
    "\\end{aligned}\n",
    "$$"
   ]
  },
  {
   "cell_type": "markdown",
   "metadata": {},
   "source": [
    "We coded an efficient Fast Sweeping Method (FSM) (see [Zhao](#biblio)) in Cython to recover the appropriate distance for our domain topology."
   ]
  },
  {
   "cell_type": "code",
   "execution_count": 440,
   "metadata": {},
   "outputs": [],
   "source": [
    "from fastsweeper.sweep import fast_sweep"
   ]
  },
  {
   "cell_type": "code",
   "execution_count": 441,
   "metadata": {},
   "outputs": [],
   "source": [
    "# Exit (target)\n",
    "exit_mask = (yg < 0.01)\n",
    "\n",
    "exit_layer = np.zeros((nx, nx, 4))\n",
    "exit_layer[exit_mask, 0] = 1.\n",
    "exit_layer[exit_mask, 3] = 1."
   ]
  },
  {
   "cell_type": "code",
   "execution_count": 442,
   "metadata": {},
   "outputs": [],
   "source": [
    "# Initialize the new distance array\n",
    "potential_new_ = np.empty((nx, nx))\n",
    "speed_field = np.ones_like(potential_new_)\n",
    "speed_field[mask] = 1e3  # \"Kill\" walking through the obstacles\n",
    "dx = xar[1] - xar[0]\n",
    "\n",
    "fast_sweep(speed_field, dx, exit_mask, 100, potential_new_,\n",
    "           init_value=6.)\n",
    "beta = 1.\n",
    "potential_new_ = potential_new_ ** beta"
   ]
  },
  {
   "cell_type": "code",
   "execution_count": 443,
   "metadata": {},
   "outputs": [
    {
     "data": {
      "image/png": "[encoded data removed]",
      "text/plain": [
       "<Figure size 400x400 with 1 Axes>"
      ]
     },
     "metadata": {
      "needs_background": "light"
     },
     "output_type": "display_data"
    }
   ],
   "source": [
    "fig = plt.figure()\n",
    "im_ = plot_measure((1-mask) * potential_new_, alpha=alphm)\n",
    "plot_domain(domain_img)\n",
    "plot_domain(exit_layer, alpha=.3)\n",
    "\n",
    "plt.title(\"Domain and potential $\\\\Psi$ ($\\\\beta=%.1f$)\\n(computed by Fast Sweeping)\"\n",
    "          % beta);\n",
    "plt.axis('off');"
   ]
  },
  {
   "cell_type": "code",
   "execution_count": 444,
   "metadata": {},
   "outputs": [],
   "source": [
    "fig.savefig(\"images/crowd_eikonal_potential.png\",\n",
    "            dpi='figure', bbox_inches='tight')"
   ]
  },
  {
   "cell_type": "code",
   "execution_count": 448,
   "metadata": {},
   "outputs": [
    {
     "name": "stdout",
     "output_type": "stream",
     "text": [
      "Epsilon: 0.25\n",
      "Total final mass: 1.0\n"
     ]
    }
   ],
   "source": [
    "## Define the kernel, its parameters, compute the dual potential\n",
    "sigma = 0.5\n",
    "epsilon = sigma ** 2\n",
    "print(\"Epsilon:\", epsilon)\n",
    "## New epsilon-kernel\n",
    "K1_eps = norm.pdf(cost_mat1, scale=sigma)\n",
    "\n",
    "K_eps_op = lambda x: np.dot(K1_eps @ x, K1_eps)\n",
    "\n",
    "# Dual potentials\n",
    "u1_eps = (1 - mask) * np.exp(-potential_new_ / epsilon)\n",
    "u0_eps = rho_0 / K_eps_op(u1_eps)\n",
    "\n",
    "rho_final = u1_eps * K_eps_op(u0_eps)\n",
    "\n",
    "print(\"Total final mass:\", rho_final.sum())"
   ]
  },
  {
   "cell_type": "code",
   "execution_count": 449,
   "metadata": {},
   "outputs": [
    {
     "data": {
      "image/png": "[encoded data removed]",
      "text/plain": [
       "<Figure size 400x400 with 1 Axes>"
      ]
     },
     "metadata": {
      "needs_background": "light"
     },
     "output_type": "display_data"
    }
   ],
   "source": [
    "#fig = plt.figure(figsize=(9, 8), dpi=90)\n",
    "fig = plt.figure()\n",
    "alphm = .95\n",
    "\n",
    "\"\"\"\n",
    "plt.subplot(121)\n",
    "plot_measure(rho_0, alpha=alphm)\n",
    "plot_domain(domain_img)\n",
    "plt.title(\"Initial distribution $\\\\rho_0$\")\n",
    "plt.axis('off');\n",
    "\n",
    "plt.subplot(122)\n",
    "\"\"\"\n",
    "im_ = plot_measure(rho_final, alpha=alphm)\n",
    "plot_domain(domain_img)\n",
    "plt.title(\"Final distribution of agents\\n($\\\\sigma=%.2f$)\"\n",
    "          % sigma)\n",
    "plt.axis('off');"
   ]
  },
  {
   "cell_type": "code",
   "execution_count": 451,
   "metadata": {},
   "outputs": [],
   "source": [
    "fig.savefig(\"images/eikonal_transport_lowvisc.png\",\n",
    "            dpi='figure', bbox_inches='tight')"
   ]
  },
  {
   "cell_type": "markdown",
   "metadata": {},
   "source": [
    "# Multi-step transport"
   ]
  },
  {
   "cell_type": "markdown",
   "metadata": {},
   "source": [
    "## One intermediate step"
   ]
  },
  {
   "cell_type": "markdown",
   "metadata": {},
   "source": [
    "We formulate the problem as\n",
    "$$\n",
    "\\begin{aligned}\n",
    "    &\\inf_{\\gamma} H(\\gamma|R) + F(P^1_\\#\\gamma) + G(P^2_\\#\\gamma) \\\\\n",
    "    \\mathrm{s.t.}\\ & P^0_\\#\\gamma = \\rho_0\n",
    "\\end{aligned}\n",
    "$$\n",
    "\n",
    "The final penalty $G$ is given by the obstacle constraint, hard congestion and the potential $\\Psi$."
   ]
  },
  {
   "cell_type": "markdown",
   "metadata": {},
   "source": [
    "We set $F$ to be both the hard congestion and obstacle constraint\n",
    "$$\n",
    "    F(\\mu) = \\imath_{\\{\\mu \\leq \\bar{m}\\}} + \\int_\\Omega V(x)\\, \\dif\\mu(x)\n",
    "    = \\imath_{\\{\\mu \\leq \\bar{m}\\}} + \\imath_0(\\mathbf 1_{\\mathscr O}\\mu)\n",
    "$$\n",
    "\n",
    "In that case, the KL-proximal operator for $F$ is given by\n",
    "$$\n",
    "    \\prox^{\\KL}_F(\\beta) = \\min(\\beta,\n",
    "    \\bar m \\mathbf{1}_{\\Omega\\backslash\\mathscr O})\n",
    "$$"
   ]
  },
  {
   "cell_type": "code",
   "execution_count": 264,
   "metadata": {},
   "outputs": [],
   "source": [
    "def proximal_congest_obstacle(beta, obstacle_mask, rho_max):\n",
    "    r\"\"\"Proximal operator with obstacle and congestion constraints\"\"\"\n",
    "    indicatrix = 1 - obstacle_mask\n",
    "    return np.minimum(beta, indicatrix * rho_max)"
   ]
  },
  {
   "cell_type": "code",
   "execution_count": 265,
   "metadata": {},
   "outputs": [],
   "source": [
    "congest_max = 0.9 * rho_final.max()"
   ]
  },
  {
   "cell_type": "markdown",
   "metadata": {},
   "source": [
    "# Bibliography\n",
    "<html><a name=\"biblio\"></a></html>"
   ]
  },
  {
   "cell_type": "markdown",
   "metadata": {},
   "source": [
    "1. [Zhao] Zhao, Hongkai. “A fast sweeping method for Eikonal equations.” Math. Comput. 74 (2004): 603-627."
   ]
  }
 ],
 "metadata": {
  "kernelspec": {
   "display_name": "Python 3",
   "language": "python",
   "name": "python3"
  },
  "language_info": {
   "codemirror_mode": {
    "name": "ipython",
    "version": 3
   },
   "file_extension": ".py",
   "mimetype": "text/x-python",
   "name": "python",
   "nbconvert_exporter": "python",
   "pygments_lexer": "ipython3",
   "version": "3.7.3"
  },
  "toc-autonumbering": true,
  "toc-showmarkdowntxt": false,
  "toc-showtags": false
 },
 "nbformat": 4,
 "nbformat_minor": 4
}
