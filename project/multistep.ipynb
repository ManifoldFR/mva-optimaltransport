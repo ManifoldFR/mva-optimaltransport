{
 "cells": [
  {
   "cell_type": "code",
   "execution_count": 1,
   "metadata": {},
   "outputs": [
    {
     "name": "stdout",
     "output_type": "stream",
     "text": [
      "/home/manifold/Documents/pyprojects/mva-optimaltransport/project\n"
     ]
    }
   ],
   "source": [
    "%load_ext autoreload\n",
    "%autoreload 2\n",
    "\n",
    "import os\n",
    "import itertools\n",
    "import utils\n",
    "import numpy as np\n",
    "import cvxpy as cvx\n",
    "import matplotlib.pyplot as plt\n",
    "\n",
    "from matplotlib import cm\n",
    "\n",
    "from utils import plot_domain, plot_measure, send_zero_transparent\n",
    "\n",
    "print(os.getcwd())"
   ]
  },
  {
   "cell_type": "code",
   "execution_count": 2,
   "metadata": {},
   "outputs": [],
   "source": [
    "plt.rcParams['figure.figsize'] = (5, 5)\n",
    "plt.rcParams['figure.dpi'] = 100"
   ]
  },
  {
   "cell_type": "markdown",
   "metadata": {},
   "source": [
    "# More marginals"
   ]
  },
  {
   "cell_type": "markdown",
   "metadata": {},
   "source": [
    "## Setup\n",
    "\n",
    "$\\newcommand{\\NN}{\\mathbb N}$\n",
    "$\\newcommand{\\RR}{\\mathbb R}$\n",
    "$\\newcommand{\\dif}{\\mathrm{d}}$\n",
    "$\\renewcommand{\\epsilon}{\\varepsilon}$\n",
    "$\\renewcommand{\\phi}{\\varphi}$\n",
    "$\\newcommand{\\suchthat}{\\mathrm{s.t.}}$\n",
    "$$\n",
    "\\DeclareMathOperator{\\supp}{supp}\n",
    "\\DeclareMathOperator*{\\argmin}{argmin}\n",
    "\\DeclareMathOperator*{\\argmax}{argmax}\n",
    "$$\n",
    "$\\newcommand{\\bfR}{\\mathbf R}$\n",
    "$\\newcommand{\\bfP}{\\mathbf P}$\n",
    "$\\DeclareMathOperator{\\divg}{div}$\n",
    "$\\DeclareMathOperator{\\supp}{supp}$\n",
    "$\\DeclareMathOperator{\\KL}{KL}$\n",
    "$\\DeclareMathOperator{\\prox}{prox}$"
   ]
  },
  {
   "cell_type": "code",
   "execution_count": 3,
   "metadata": {},
   "outputs": [],
   "source": [
    "from typing import List"
   ]
  },
  {
   "cell_type": "code",
   "execution_count": 271,
   "metadata": {},
   "outputs": [],
   "source": [
    "IMAGE_DIR = \"images/multimarg_room1/\"\n",
    "os.makedirs(IMAGE_DIR, exist_ok=True)"
   ]
  },
  {
   "cell_type": "code",
   "execution_count": 272,
   "metadata": {},
   "outputs": [],
   "source": [
    "nx = 81\n",
    "ny = 81\n",
    "xar = np.linspace(0, 1, nx)\n",
    "yar = np.linspace(0, 1, ny)\n",
    "xg, yg = np.meshgrid(xar, yar)\n",
    "\n",
    "extent = [0, xar.max(), 0, yar.max()]"
   ]
  },
  {
   "cell_type": "code",
   "execution_count": 273,
   "metadata": {},
   "outputs": [],
   "source": [
    "#rho_0 = (np.abs(xg - 0.5) <= 0.22) & (np.abs(yg - .7) <= 0.2)\n",
    "rho_0 = (np.abs(xg - 0.24) <= 0.18) & (np.abs(yg - .86) <= 0.1)\n",
    "rho_0 = rho_0.astype(np.float64)\n",
    "rho_0 /= rho_0.sum()  # normalize the density"
   ]
  },
  {
   "cell_type": "code",
   "execution_count": 274,
   "metadata": {},
   "outputs": [
    {
     "data": {
      "text/plain": [
       "(0.0, 1.0, 0.0, 1.0)"
      ]
     },
     "execution_count": 274,
     "metadata": {},
     "output_type": "execute_result"
    },
    {
     "data": {
      "image/png": "[encoded data removed]",
      "text/plain": [
       "<Figure size 500x500 with 1 Axes>"
      ]
     },
     "metadata": {
      "needs_background": "light"
     },
     "output_type": "display_data"
    }
   ],
   "source": [
    "# Obstacle domain\n",
    "from utils.rooms import room1, room2, room1_bis\n",
    "\n",
    "mask = room1(xg, yg)\n",
    "\n",
    "obstacle_idx = np.argwhere(mask)\n",
    "\n",
    "domain_img = np.zeros((ny, nx, 4))\n",
    "domain_img[mask, 3] = 1.\n",
    "\n",
    "# Exit (target)\n",
    "#exit_mask = (np.abs(xg - .84) <= 0.12) & (np.abs(yg - .41) <= 0.24)\n",
    "exit_mask = (np.abs(xg - .8) <= 0.08) & (np.abs(yg - .14) <= 0.08)\n",
    "\n",
    "## Layer for plotting\n",
    "exit_layer = np.zeros((ny, nx, 4))\n",
    "exit_layer[exit_mask, 0] = 1.\n",
    "exit_layer[exit_mask, 3] = 1.\n",
    "\n",
    "fig = plt.figure()\n",
    "plot_domain(domain_img, extent=extent)\n",
    "plot_measure(rho_0, extent=extent)\n",
    "plot_domain(exit_layer, alpha=.6)\n",
    "plt.title(\"Domain $\\\\Omega$ and objective\")\n",
    "plt.axis('image')\n"
   ]
  },
  {
   "cell_type": "code",
   "execution_count": 275,
   "metadata": {},
   "outputs": [],
   "source": [
    "fig.savefig(IMAGE_DIR+\"room1_setup.pdf\", bbox_inches='tight')"
   ]
  },
  {
   "cell_type": "code",
   "execution_count": 276,
   "metadata": {},
   "outputs": [],
   "source": [
    "# Use a HJ potential\n",
    "# Initialize the new distance array\n",
    "potential_new_ = np.ones((ny, nx))\n",
    "speed_field = np.ones_like(potential_new_)\n",
    "speed_field[mask] = 1e3  # \"Kill\" walking through the obstacles\n",
    "\n",
    "dx = xar[1] - xar[0]\n",
    "dy = yar[1] - yar[0]\n",
    "sweep_iters = 140"
   ]
  },
  {
   "cell_type": "code",
   "execution_count": 277,
   "metadata": {},
   "outputs": [],
   "source": [
    "from fastsweeper.sweep import fast_sweep\n",
    "\n",
    "fast_sweep(speed_field[:ny], dx, exit_mask[:ny], sweep_iters, potential_new_[:ny])\n",
    "beta = 1.5\n",
    "potential_new_ = potential_new_ ** beta"
   ]
  },
  {
   "cell_type": "code",
   "execution_count": 278,
   "metadata": {},
   "outputs": [
    {
     "data": {
      "text/plain": [
       "<matplotlib.colorbar.Colorbar at 0x7f5b2013ca58>"
      ]
     },
     "execution_count": 278,
     "metadata": {},
     "output_type": "execute_result"
    },
    {
     "data": {
      "image/png": "[encoded data removed]",
      "text/plain": [
       "<Figure size 500x500 with 2 Axes>"
      ]
     },
     "metadata": {
      "needs_background": "light"
     },
     "output_type": "display_data"
    }
   ],
   "source": [
    "alphm = .9\n",
    "\n",
    "fig = plt.figure()\n",
    "ax = fig.add_subplot()\n",
    "#ax.contourf((1-mask)*potential_new_, alpha=alphm, levels=40)\n",
    "im_ = plot_measure((1-mask) * potential_new_,\n",
    "                   extent=extent, alpha=alphm, cmap=cm.viridis)\n",
    "plot_domain(domain_img, extent=extent)\n",
    "#plot_domain(exit_layer, alpha=.3)\n",
    "\n",
    "ax.set_title(\"Potential $\\\\Psi = d^\\\\beta$ ($\\\\beta=%.1f$)\" \n",
    "             % beta)\n",
    "#ax.set_aspect('auto')\n",
    "fig.colorbar(im_)\n",
    "#plt.axis('off');"
   ]
  },
  {
   "cell_type": "code",
   "execution_count": 279,
   "metadata": {},
   "outputs": [],
   "source": [
    "fig.savefig(IMAGE_DIR+\"room_potential.pdf\", bbox_inches='tight')"
   ]
  },
  {
   "cell_type": "markdown",
   "metadata": {},
   "source": [
    "## Computation"
   ]
  },
  {
   "cell_type": "code",
   "execution_count": 280,
   "metadata": {},
   "outputs": [],
   "source": [
    "from scipy.stats import norm\n",
    "from scipy.spatial import distance"
   ]
  },
  {
   "cell_type": "markdown",
   "metadata": {},
   "source": [
    "The full transport problem is\n",
    "$$\n",
    "    \\inf_\\gamma \\epsilon \\KL(\\gamma, \\bfR) + h\\sum_{k=1}^N F(\\rho_k) + G(\\rho_N)\n",
    "$$\n",
    "under the constraints $P^k_\\#\\gamma = \\rho_k$."
   ]
  },
  {
   "cell_type": "code",
   "execution_count": 281,
   "metadata": {},
   "outputs": [],
   "source": [
    "# x-direction kernel\n",
    "cost_mat1 = distance.cdist(xar[:, None],\n",
    "                           xar[:, None])  # distance between 1st-coordinates\n",
    "cost_mat2 = distance.cdist(yar[:, None],\n",
    "                           yar[:, None])  # distance between 1st-coordinates"
   ]
  },
  {
   "cell_type": "code",
   "execution_count": 282,
   "metadata": {},
   "outputs": [],
   "source": [
    "import numba"
   ]
  },
  {
   "cell_type": "code",
   "execution_count": 283,
   "metadata": {},
   "outputs": [
    {
     "name": "stdout",
     "output_type": "stream",
     "text": [
      "Epsilon: 0.0036\n"
     ]
    }
   ],
   "source": [
    "N_t = 60\n",
    "tmax = 5.\n",
    "dt = tmax / N_t  # timestep\n",
    "\n",
    "sigma = 0.06\n",
    "epsilon = sigma ** 2\n",
    "print(\"Epsilon:\", epsilon)\n",
    "## New epsilon-kernel\n",
    "K1_eps = norm.pdf(cost_mat1, scale=(sigma * dt ** .5))\n",
    "K2_eps = norm.pdf(cost_mat2, scale=(sigma * dt ** .5))\n",
    "\n",
    "K_eps_op = lambda x: np.dot(K2_eps @ x, K1_eps)\n",
    "K_eps_op = numba.jit(K_eps_op)\n",
    "\n",
    "K_eps_op(np.random.rand(ny, nx));"
   ]
  },
  {
   "cell_type": "code",
   "execution_count": 284,
   "metadata": {},
   "outputs": [
    {
     "data": {
      "image/png": "[encoded data removed]",
      "text/plain": [
       "<Figure size 500x500 with 1 Axes>"
      ]
     },
     "metadata": {
      "needs_background": "light"
     },
     "output_type": "display_data"
    }
   ],
   "source": [
    "plt.imshow(K1_eps, interpolation='none')\n",
    "plt.title(\"Gaussian convolution kernel $K$\")\n",
    "plt.xlabel(\"$x_1$\")\n",
    "plt.ylabel(\"$y_1$\");"
   ]
  },
  {
   "cell_type": "markdown",
   "metadata": {},
   "source": [
    "The kernel is\n",
    "$$\n",
    "    \\bfP_{i,j} = P_{h\\epsilon}(x_j - x_i).\n",
    "$$\n",
    "\n",
    "Let's write the full Sinkhorn algorithm:"
   ]
  },
  {
   "cell_type": "code",
   "execution_count": 285,
   "metadata": {},
   "outputs": [
    {
     "name": "stdout",
     "output_type": "stream",
     "text": [
      "Max congestion: 0.002586206896551724\n"
     ]
    }
   ],
   "source": [
    "congest_max = 1.2 * rho_0.max()\n",
    "print(\"Max congestion:\", congest_max)"
   ]
  },
  {
   "cell_type": "code",
   "execution_count": 286,
   "metadata": {},
   "outputs": [],
   "source": [
    "@numba.njit\n",
    "def _convolve_sinkhorn(a_s: List[np.ndarray], idx: int):\n",
    "    \"\"\"Perform partial convolution with the N marginals.\n",
    "    idx: which index to leave out\n",
    "    \"\"\"\n",
    "    n_marg = len(a_s)  # no. of marginals\n",
    "    A = np.ones_like(a_s[0])\n",
    "    # iterate convolution\n",
    "    for j in range(idx):\n",
    "        A[:] = K_eps_op(A * a_s[j])\n",
    "    \n",
    "    B = np.ones_like(a_s[0])\n",
    "    for j in range(n_marg - idx - 1):\n",
    "        B[:] = K_eps_op(B * a_s[n_marg-j-1])\n",
    "    return A * B\n",
    "\n",
    "\n",
    "@numba.njit\n",
    "def prox_operator(mes, mask, congest_max, psi):\n",
    "    r\"\"\"Proximal operator\"\"\"\n",
    "    return np.minimum(mes * np.exp(-psi/epsilon), congest_max) * (1-mask)\n",
    "\n",
    "\n",
    "tau = 1e-16\n",
    "\n",
    "@numba.njit\n",
    "def multi_sinkhorn(a_s: List[np.ndarray]):\n",
    "    \"\"\"Multimarginal sinkhorn\"\"\"\n",
    "    n_marg = len(a_s)  # no. of marginals\n",
    "    conv = _convolve_sinkhorn(a_s, 0)\n",
    "    a_s[0] = rho_0 / (conv+tau)\n",
    "    \n",
    "    for k in range(1, n_marg-1):\n",
    "        conv = _convolve_sinkhorn(a_s, k)\n",
    "        numer = prox_operator(conv, mask, congest_max, 0.)\n",
    "        a_s[k] = numer / (conv+tau)\n",
    "    \n",
    "    conv = _convolve_sinkhorn(a_s, n_marg-1)\n",
    "    numer = prox_operator(conv, mask, congest_max, potential_new_)\n",
    "    a_s[n_marg - 1] = numer / (conv+tau)"
   ]
  },
  {
   "cell_type": "markdown",
   "metadata": {},
   "source": [
    "We get the marginals from\n",
    "$$\n",
    "    \\rho_k^* = a_k^* \\odot \\mathbf{R}[(a^*_j)_{j\\neq k}]\n",
    "$$"
   ]
  },
  {
   "cell_type": "code",
   "execution_count": 287,
   "metadata": {},
   "outputs": [],
   "source": [
    "a_s = [\n",
    "    np.ones((ny, nx)) for _ in range(N_t)\n",
    "]\n",
    "\n",
    "num_iters = 40"
   ]
  },
  {
   "cell_type": "code",
   "execution_count": 288,
   "metadata": {},
   "outputs": [
    {
     "name": "stdout",
     "output_type": "stream",
     "text": [
      "n: 0\r"
     ]
    },
    {
     "name": "stderr",
     "output_type": "stream",
     "text": [
      "<ipython-input-286-68f6aadb5719>:30: NumbaPendingDeprecationWarning: \n",
      "Encountered the use of a type that is scheduled for deprecation: type 'reflected list' found for argument 'a_s' of function '_convolve_sinkhorn'.\n",
      "\n",
      "For more information visit http://numba.pydata.org/numba-doc/latest/reference/deprecation.html#deprecation-of-reflection-for-list-and-set-types\n",
      "\n",
      "File \"<ipython-input-286-68f6aadb5719>\", line 2:\n",
      "@numba.njit\n",
      "def _convolve_sinkhorn(a_s: List[np.ndarray], idx: int):\n",
      "^\n",
      "\n",
      "  conv = _convolve_sinkhorn(a_s, 0)\n",
      "<ipython-input-286-68f6aadb5719>:34: NumbaPendingDeprecationWarning: \n",
      "Encountered the use of a type that is scheduled for deprecation: type 'reflected list' found for argument 'a_s' of function '_convolve_sinkhorn'.\n",
      "\n",
      "For more information visit http://numba.pydata.org/numba-doc/latest/reference/deprecation.html#deprecation-of-reflection-for-list-and-set-types\n",
      "\n",
      "File \"<ipython-input-286-68f6aadb5719>\", line 2:\n",
      "@numba.njit\n",
      "def _convolve_sinkhorn(a_s: List[np.ndarray], idx: int):\n",
      "^\n",
      "\n",
      "  conv = _convolve_sinkhorn(a_s, k)\n",
      "/home/manifold/miniconda3/lib/python3.7/site-packages/numba/ir_utils.py:1969: NumbaPendingDeprecationWarning: \n",
      "Encountered the use of a type that is scheduled for deprecation: type 'reflected list' found for argument 'a_s' of function 'multi_sinkhorn'.\n",
      "\n",
      "For more information visit http://numba.pydata.org/numba-doc/latest/reference/deprecation.html#deprecation-of-reflection-for-list-and-set-types\n",
      "\n",
      "File \"<ipython-input-286-68f6aadb5719>\", line 27:\n",
      "@numba.njit\n",
      "def multi_sinkhorn(a_s: List[np.ndarray]):\n",
      "^\n",
      "\n",
      "  warnings.warn(NumbaPendingDeprecationWarning(msg, loc=loc))\n"
     ]
    },
    {
     "name": "stdout",
     "output_type": "stream",
     "text": [
      "n: 39\r"
     ]
    }
   ],
   "source": [
    "for n in range(num_iters):\n",
    "    print(\"n:\", n, end='\\r')\n",
    "    multi_sinkhorn(a_s)"
   ]
  },
  {
   "cell_type": "code",
   "execution_count": 289,
   "metadata": {},
   "outputs": [],
   "source": [
    "# Now compute the marginals from the potentials\n",
    "marginals = [\n",
    "    a * _convolve_sinkhorn(a_s, k) for k, a in enumerate(a_s)\n",
    "]"
   ]
  },
  {
   "cell_type": "code",
   "execution_count": 290,
   "metadata": {},
   "outputs": [
    {
     "name": "stdout",
     "output_type": "stream",
     "text": [
      "Time 0: max density 2.169e-03\n",
      "Time 1: max density 2.336e-03\n",
      "Time 2: max density 2.428e-03\n",
      "Time 3: max density 2.499e-03\n",
      "Time 4: max density 2.553e-03\n",
      "Time 5: max density 2.594e-03\n",
      "Time 6: max density 2.602e-03\n",
      "Time 7: max density 2.602e-03\n",
      "Time 8: max density 2.602e-03\n",
      "Time 9: max density 2.602e-03\n",
      "Time 10: max density 2.602e-03\n",
      "Time 11: max density 2.603e-03\n",
      "Time 12: max density 2.602e-03\n",
      "Time 13: max density 2.602e-03\n",
      "Time 14: max density 2.603e-03\n",
      "Time 15: max density 2.603e-03\n",
      "Time 16: max density 2.604e-03\n",
      "Time 17: max density 2.606e-03\n",
      "Time 18: max density 2.607e-03\n",
      "Time 19: max density 2.605e-03\n",
      "Time 20: max density 2.604e-03\n",
      "Time 21: max density 2.602e-03\n",
      "Time 22: max density 2.602e-03\n",
      "Time 23: max density 2.602e-03\n",
      "Time 24: max density 2.602e-03\n",
      "Time 25: max density 2.603e-03\n",
      "Time 26: max density 2.603e-03\n",
      "Time 27: max density 2.603e-03\n",
      "Time 28: max density 2.603e-03\n",
      "Time 29: max density 2.604e-03\n",
      "Time 30: max density 2.604e-03\n",
      "Time 31: max density 2.605e-03\n",
      "Time 32: max density 2.605e-03\n",
      "Time 33: max density 2.605e-03\n",
      "Time 34: max density 2.605e-03\n",
      "Time 35: max density 2.604e-03\n",
      "Time 36: max density 2.604e-03\n",
      "Time 37: max density 2.604e-03\n",
      "Time 38: max density 2.604e-03\n",
      "Time 39: max density 2.603e-03\n",
      "Time 40: max density 2.603e-03\n",
      "Time 41: max density 2.603e-03\n",
      "Time 42: max density 2.604e-03\n",
      "Time 43: max density 2.603e-03\n",
      "Time 44: max density 2.604e-03\n",
      "Time 45: max density 2.605e-03\n",
      "Time 46: max density 2.605e-03\n",
      "Time 47: max density 2.606e-03\n",
      "Time 48: max density 2.606e-03\n",
      "Time 49: max density 2.607e-03\n",
      "Time 50: max density 2.607e-03\n",
      "Time 51: max density 2.609e-03\n",
      "Time 52: max density 2.612e-03\n",
      "Time 53: max density 2.618e-03\n",
      "Time 54: max density 2.622e-03\n",
      "Time 55: max density 2.622e-03\n",
      "Time 56: max density 2.627e-03\n",
      "Time 57: max density 2.629e-03\n",
      "Time 58: max density 2.612e-03\n",
      "Time 59: max density 2.586e-03\n"
     ]
    }
   ],
   "source": [
    "for t, mu in enumerate(marginals):\n",
    "    print(\"Time %d: max density %.3e\" % (t, mu.max()))"
   ]
  },
  {
   "cell_type": "code",
   "execution_count": 291,
   "metadata": {},
   "outputs": [
    {
     "name": "stdout",
     "output_type": "stream",
     "text": [
      "[0, 4, 8, 12, 16, 20, 24, 28, 32, 36, 40, 44, 48, 52, 56, 59]\n",
      "16\n",
      "ncols: 5 nrows: 3\n"
     ]
    }
   ],
   "source": [
    "steps_to_plot = [4*t for t in range(N_t//4)]\n",
    "steps_to_plot.append(N_t-1)\n",
    "print(steps_to_plot)\n",
    "print(len(steps_to_plot))\n",
    "steps_to_plot\n",
    "\n",
    "ncols = 5\n",
    "nrows = len(steps_to_plot) // ncols\n",
    "print(\"ncols:\", ncols, \"nrows:\", nrows)"
   ]
  },
  {
   "cell_type": "code",
   "execution_count": 292,
   "metadata": {},
   "outputs": [
    {
     "data": {
      "image/png": "[encoded data removed]",
      "text/plain": [
       "<Figure size 1080x540 with 15 Axes>"
      ]
     },
     "metadata": {
      "needs_background": "light"
     },
     "output_type": "display_data"
    }
   ],
   "source": [
    "fig, axes = plt.subplots(nrows, ncols, figsize=(12, 6), dpi=90)\n",
    "axes = axes.ravel()\n",
    "\n",
    "\n",
    "\n",
    "for i, t in enumerate(steps_to_plot):\n",
    "    if i < len(axes):\n",
    "        ax = axes[i]\n",
    "        t = steps_to_plot[i]\n",
    "        mu = marginals[t]\n",
    "        plot_domain(domain_img, cax=ax, extent=extent)\n",
    "        #ax.contourf(mu, levels=10, zorder=2)\n",
    "        plot_measure(mu, cax=ax, extent=extent, cmap=cm.viridis)\n",
    "        ax.axis('off')\n",
    "        ax.set_title(\"Time step %d\" % t)\n",
    "\n",
    "fig.suptitle(\"%d time steps. $\\\\sigma=%.3f$\" % (N_t, sigma), y=1.002)\n",
    "fig.tight_layout();"
   ]
  },
  {
   "cell_type": "code",
   "execution_count": 293,
   "metadata": {},
   "outputs": [],
   "source": [
    "fig.savefig(IMAGE_DIR+'multimarg_transport.pdf', bbox_inches='tight')"
   ]
  },
  {
   "cell_type": "code",
   "execution_count": null,
   "metadata": {},
   "outputs": [],
   "source": []
  },
  {
   "cell_type": "code",
   "execution_count": null,
   "metadata": {},
   "outputs": [],
   "source": []
  }
 ],
 "metadata": {
  "kernelspec": {
   "display_name": "Python 3",
   "language": "python",
   "name": "python3"
  },
  "language_info": {
   "codemirror_mode": {
    "name": "ipython",
    "version": 3
   },
   "file_extension": ".py",
   "mimetype": "text/x-python",
   "name": "python",
   "nbconvert_exporter": "python",
   "pygments_lexer": "ipython3",
   "version": "3.7.3"
  }
 },
 "nbformat": 4,
 "nbformat_minor": 4
}
