{
 "cells": [
  {
   "cell_type": "code",
   "execution_count": 1,
   "metadata": {},
   "outputs": [],
   "source": [
    "%load_ext autoreload\n",
    "%autoreload 2\n",
    "\n",
    "import numpy as np\n",
    "import matplotlib.pyplot as plt\n",
    "from matplotlib import cm\n",
    "%matplotlib inline"
   ]
  },
  {
   "cell_type": "code",
   "execution_count": 2,
   "metadata": {},
   "outputs": [],
   "source": [
    "plt.rcParams['figure.figsize'] = (5, 5)\n",
    "plt.rcParams['figure.dpi'] = 80"
   ]
  },
  {
   "cell_type": "markdown",
   "metadata": {},
   "source": [
    "# Domain setup"
   ]
  },
  {
   "cell_type": "code",
   "execution_count": 3,
   "metadata": {},
   "outputs": [],
   "source": [
    "nx = 101\n",
    "xar = np.linspace(0, 1, nx)\n",
    "xg, yg = np.meshgrid(xar, xar)\n",
    "\n",
    "extent = [0, 1, 0, 1]\n",
    "\n",
    "def plot_domain(mask, cax=None, cmap=cm.Greys, extent=extent, **kwargs):\n",
    "    \"\"\"Plot the domain in black & white\"\"\"\n",
    "    if cax is None:\n",
    "        cax = plt.gca()\n",
    "    if not 'alpha' in kwargs:\n",
    "        kwargs['alpha'] = 0.62\n",
    "    kwargs['cmap'] = cmap\n",
    "    im_ = cax.imshow(mask, origin='lower', extent=extent,\n",
    "                     interpolation='none', zorder=5, **kwargs)\n",
    "    return im_\n",
    "    \n",
    "def plot_measure(a, cax=None, cmap=cm.viridis, extent=extent, **kwargs):\n",
    "    if cax is None:\n",
    "        cax = plt.gca()\n",
    "    kwargs['cmap'] = cmap\n",
    "    im_ = cax.imshow(a, origin='lower', extent=extent,\n",
    "                     interpolation='none', **kwargs)\n",
    "    return im_"
   ]
  },
  {
   "cell_type": "code",
   "execution_count": 4,
   "metadata": {},
   "outputs": [
    {
     "data": {
      "text/plain": [
       "(0.0, 1.0, 0.0, 1.0)"
      ]
     },
     "execution_count": 4,
     "metadata": {},
     "output_type": "execute_result"
    },
    {
     "data": {
      "image/png": "[encoded data removed]",
      "text/plain": [
       "<Figure size 400x400 with 1 Axes>"
      ]
     },
     "metadata": {
      "needs_background": "light"
     },
     "output_type": "display_data"
    }
   ],
   "source": [
    "# Obstacle domain\n",
    "mask = ((0.64 <= yg) & (yg <= 0.7)) & (xg <= 0.75)\n",
    "mask[:] = mask | ((0.3 <= yg) & (yg <= 0.34)) &\\\n",
    "    ((xg <= 0.10) | (xg >= 0.24))\n",
    "mask[:] = mask | ((xg <= 0.015) | (xg >= 0.985))\n",
    "mask[:] = mask | ((yg >= 0.985))\n",
    "mask[:] = mask | ((np.abs(xg - 0.65) < 0.1) & (np.abs(yg - 0.45) < 0.1))\n",
    "\n",
    "\n",
    "obstacle_idx = np.argwhere(mask)\n",
    "\n",
    "domain_img = np.zeros((nx, nx, 4))\n",
    "domain_img[mask, 3] = 1.\n",
    "\n",
    "# Exit (target)\n",
    "exit_mask = (yg < 0.01)\n",
    "\n",
    "exit_layer = np.zeros((nx, nx, 4))\n",
    "exit_layer[exit_mask, 0] = 1.\n",
    "exit_layer[exit_mask, 3] = 1.\n",
    "\n",
    "fig = plt.figure()\n",
    "plot_domain(domain_img)\n",
    "plot_domain(exit_layer)\n",
    "plt.axis('off')"
   ]
  },
  {
   "cell_type": "markdown",
   "metadata": {},
   "source": [
    "# Test the sweep"
   ]
  },
  {
   "cell_type": "code",
   "execution_count": 7,
   "metadata": {},
   "outputs": [],
   "source": [
    "import time\n",
    "\n",
    "from IPython import display\n",
    "from sweep import init_grid, update_grid"
   ]
  },
  {
   "cell_type": "code",
   "execution_count": 8,
   "metadata": {},
   "outputs": [],
   "source": [
    "dx = 1. / (nx-1)\n",
    "\n",
    "C = np.empty((nx, nx))\n",
    "speed_field = np.ones_like(C)\n",
    "speed_field[mask] = 1e5\n",
    "init_grid(C, exit_mask, init_value=2)"
   ]
  },
  {
   "cell_type": "code",
   "execution_count": 9,
   "metadata": {},
   "outputs": [
    {
     "data": {
      "image/png": "[encoded data removed]",
      "text/plain": [
       "<Figure size 400x400 with 2 Axes>"
      ]
     },
     "metadata": {
      "needs_background": "light"
     },
     "output_type": "display_data"
    }
   ],
   "source": [
    "plot_domain(domain_img)\n",
    "im_ = plot_measure(C)\n",
    "plt.colorbar(im_)\n",
    "plt.axis('off');"
   ]
  },
  {
   "cell_type": "code",
   "execution_count": 10,
   "metadata": {},
   "outputs": [
    {
     "data": {
      "image/png": "[encoded data removed]",
      "text/plain": [
       "<Figure size 400x400 with 1 Axes>"
      ]
     },
     "metadata": {
      "needs_background": "light"
     },
     "output_type": "display_data"
    }
   ],
   "source": [
    "for k in range(40):\n",
    "    #plot_domain(domain_img)\n",
    "    C_img = C.copy()\n",
    "    C_img[mask] = None\n",
    "    im_ = plot_measure(C_img)\n",
    "    plt.axis('off');\n",
    "    plt.title(\"Iterate %d\" % k)\n",
    "    display.display(plt.gcf())\n",
    "    display.clear_output(wait=True)\n",
    "    time.sleep(0.1)\n",
    "    \n",
    "    update_grid(speed_field, dx, C, False, False)\n",
    "    update_grid(speed_field, dx, C, True, False)\n",
    "    update_grid(speed_field, dx, C, True, True)\n",
    "    update_grid(speed_field, dx, C, False, True)"
   ]
  },
  {
   "cell_type": "markdown",
   "metadata": {},
   "source": [
    "## Cython sweep"
   ]
  },
  {
   "cell_type": "code",
   "execution_count": 11,
   "metadata": {},
   "outputs": [],
   "source": [
    "from sweep import fast_sweep"
   ]
  },
  {
   "cell_type": "code",
   "execution_count": 35,
   "metadata": {},
   "outputs": [],
   "source": [
    "dx = 1. / (nx-1)\n",
    "\n",
    "C = np.empty((nx, nx))\n",
    "speed_field = np.ones_like(C)\n",
    "speed_field[mask] = 1e4\n",
    "fast_sweep(speed_field, dx, exit_mask, 40, C)"
   ]
  },
  {
   "cell_type": "code",
   "execution_count": 36,
   "metadata": {},
   "outputs": [],
   "source": [
    "C_filtered = C.copy()\n",
    "C_filtered[mask] = None"
   ]
  },
  {
   "cell_type": "code",
   "execution_count": 39,
   "metadata": {},
   "outputs": [
    {
     "data": {
      "image/png": "[encoded data removed]",
      "text/plain": [
       "<Figure size 450x450 with 2 Axes>"
      ]
     },
     "metadata": {
      "needs_background": "light"
     },
     "output_type": "display_data"
    }
   ],
   "source": [
    "plt.figure(dpi=90)\n",
    "plt.contourf(C_filtered, levels=40)\n",
    "plt.colorbar();\n",
    "plt.axis('off');"
   ]
  }
 ],
 "metadata": {
  "kernelspec": {
   "display_name": "Python 3",
   "language": "python",
   "name": "python3"
  },
  "language_info": {
   "codemirror_mode": {
    "name": "ipython",
    "version": 3
   },
   "file_extension": ".py",
   "mimetype": "text/x-python",
   "name": "python",
   "nbconvert_exporter": "python",
   "pygments_lexer": "ipython3",
   "version": "3.7.3"
  }
 },
 "nbformat": 4,
 "nbformat_minor": 4
}
