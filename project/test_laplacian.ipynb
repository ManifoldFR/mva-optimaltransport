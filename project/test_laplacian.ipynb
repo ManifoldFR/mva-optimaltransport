{
 "cells": [
  {
   "cell_type": "code",
   "execution_count": 1,
   "metadata": {},
   "outputs": [],
   "source": [
    "%load_ext autoreload\n",
    "%autoreload 2\n",
    "\n",
    "import numpy as np\n",
    "\n",
    "from utils import laplacian\n",
    "\n",
    "import matplotlib.pyplot as plt\n",
    "\n",
    "from utils.rooms import setup1\n",
    "\n",
    "import scipy.sparse as sps\n",
    "from scipy.sparse import linalg "
   ]
  },
  {
   "cell_type": "code",
   "execution_count": 2,
   "metadata": {},
   "outputs": [
    {
     "name": "stdout",
     "output_type": "stream",
     "text": [
      "0.025\n"
     ]
    }
   ],
   "source": [
    "nx = ny = 41\n",
    "dx = 1. / (nx-1)\n",
    "\n",
    "print(dx)\n",
    "\n",
    "xar = np.linspace(0, 1, nx)\n",
    "xg, yg = np.meshgrid(xar, xar)\n",
    "\n",
    "extent = [0, xar.max(), 0, xar.max()]\n",
    "\n",
    "rho_0, mask, exit_mask = setup1(xg, yg)"
   ]
  },
  {
   "cell_type": "code",
   "execution_count": 3,
   "metadata": {},
   "outputs": [
    {
     "data": {
      "text/plain": [
       "1681"
      ]
     },
     "execution_count": 3,
     "metadata": {},
     "output_type": "execute_result"
    }
   ],
   "source": [
    "nx*ny"
   ]
  },
  {
   "cell_type": "code",
   "execution_count": 4,
   "metadata": {},
   "outputs": [
    {
     "data": {
      "text/plain": [
       "<matplotlib.image.AxesImage at 0x7fa0ddd117d0>"
      ]
     },
     "execution_count": 4,
     "metadata": {},
     "output_type": "execute_result"
    },
    {
     "data": {
      "image/png": "[encoded data removed]",
      "text/plain": [
       "<Figure size 432x288 with 1 Axes>"
      ]
     },
     "metadata": {
      "image/png": {
       "height": 252,
       "width": 262
      },
      "needs_background": "light"
     },
     "output_type": "display_data"
    }
   ],
   "source": [
    "mask = np.zeros((nx, ny), dtype=bool)\n",
    "#mask[:, 0] = True\n",
    "#mask[0, :] = True\n",
    "\n",
    "plt.imshow(mask, origin='lower', extent=extent)"
   ]
  },
  {
   "cell_type": "code",
   "execution_count": 6,
   "metadata": {},
   "outputs": [],
   "source": [
    "dt = .4*dx ** 2\n",
    "diff_coe = 2.\n",
    "mat = diff_coe * dt * laplacian.noflux_laplacian_2d(mask, dx, dx)\n",
    "mat_rshpd = mat.reshape((nx*nx, 5))"
   ]
  },
  {
   "cell_type": "code",
   "execution_count": 7,
   "metadata": {},
   "outputs": [
    {
     "data": {
      "text/plain": [
       "array([-3.2,  0.8,  0.8,  0.8,  0.8])"
      ]
     },
     "execution_count": 7,
     "metadata": {},
     "output_type": "execute_result"
    }
   ],
   "source": [
    "mat[0, 0]"
   ]
  },
  {
   "cell_type": "code",
   "execution_count": 14,
   "metadata": {},
   "outputs": [],
   "source": [
    "# sparsify\n",
    "offsets = [0, -1, -2, 1, 2]"
   ]
  },
  {
   "cell_type": "code",
   "execution_count": 15,
   "metadata": {},
   "outputs": [
    {
     "data": {
      "text/plain": [
       "[0, -1, -2, 1, 2]"
      ]
     },
     "execution_count": 15,
     "metadata": {},
     "output_type": "execute_result"
    }
   ],
   "source": [
    "offsets"
   ]
  },
  {
   "cell_type": "code",
   "execution_count": 16,
   "metadata": {},
   "outputs": [],
   "source": [
    "mat_sparse = sps.spdiags(mat_rshpd.T, offsets, nx*nx, nx*nx)"
   ]
  },
  {
   "cell_type": "code",
   "execution_count": 18,
   "metadata": {},
   "outputs": [
    {
     "data": {
      "text/plain": [
       "array([[-3.2, -3.2, -3.2, ..., -3.2, -3.2, -3.2],\n",
       "       [ 0.8,  0.8,  0.8, ...,  0.8,  0.8,  0.8],\n",
       "       [ 0.8,  0.8,  0.8, ...,  0.8,  0.8,  0.8],\n",
       "       [ 0.8,  0.8,  0.8, ...,  0.8,  0.8,  0.8],\n",
       "       [ 0.8,  0.8,  0.8, ...,  0.8,  0.8,  0.8]])"
      ]
     },
     "execution_count": 18,
     "metadata": {},
     "output_type": "execute_result"
    }
   ],
   "source": [
    "mat_sparse.data"
   ]
  },
  {
   "cell_type": "code",
   "execution_count": 17,
   "metadata": {},
   "outputs": [
    {
     "data": {
      "text/plain": [
       "array([[-3.2,  0.8,  0.8,  0. ,  0. ,  0. ,  0. ,  0. ,  0. ],\n",
       "       [ 0.8, -3.2,  0.8,  0.8,  0. ,  0. ,  0. ,  0. ,  0. ],\n",
       "       [ 0.8,  0.8, -3.2,  0.8,  0.8,  0. ,  0. ,  0. ,  0. ],\n",
       "       [ 0. ,  0.8,  0.8, -3.2,  0.8,  0.8,  0. ,  0. ,  0. ],\n",
       "       [ 0. ,  0. ,  0.8,  0.8, -3.2,  0.8,  0.8,  0. ,  0. ],\n",
       "       [ 0. ,  0. ,  0. ,  0.8,  0.8, -3.2,  0.8,  0.8,  0. ],\n",
       "       [ 0. ,  0. ,  0. ,  0. ,  0.8,  0.8, -3.2,  0.8,  0.8],\n",
       "       [ 0. ,  0. ,  0. ,  0. ,  0. ,  0.8,  0.8, -3.2,  0.8],\n",
       "       [ 0. ,  0. ,  0. ,  0. ,  0. ,  0. ,  0.8,  0.8, -3.2]])"
      ]
     },
     "execution_count": 17,
     "metadata": {},
     "output_type": "execute_result"
    }
   ],
   "source": [
    "mat_sparse.toarray()[:9,:9]"
   ]
  },
  {
   "cell_type": "code",
   "execution_count": 143,
   "metadata": {},
   "outputs": [
    {
     "data": {
      "image/png": "[encoded data removed]",
      "text/plain": [
       "<Figure size 432x288 with 1 Axes>"
      ]
     },
     "metadata": {
      "image/png": {
       "height": 252,
       "width": 262
      },
      "needs_background": "light"
     },
     "output_type": "display_data"
    }
   ],
   "source": [
    "initial_distrib = (np.exp(-((xg-.4)**2 + (yg-.4)**2)/.012)\n",
    "                  )\n",
    "initial_distrib /= initial_distrib.sum()\n",
    "\n",
    "from utils.plotting import plot_domain, send_zero_transparent\n",
    "\n",
    "plt.imshow(initial_distrib, cmap=plt.cm.Blues, extent=extent, origin='lower')\n",
    "\n",
    "\n",
    "initial_distrib_flat = initial_distrib.ravel()"
   ]
  },
  {
   "cell_type": "code",
   "execution_count": 144,
   "metadata": {},
   "outputs": [],
   "source": [
    "res_ = [initial_distrib_flat]\n",
    "\n",
    "for _ in range(10):\n",
    "    A_ = sps.eye(nx*nx) - 0.5 * mat_sparse\n",
    "    next_iter = linalg.spsolve(A_, res_[-1])\n",
    "    res_.append(next_iter)"
   ]
  },
  {
   "cell_type": "code",
   "execution_count": 146,
   "metadata": {},
   "outputs": [
    {
     "data": {
      "text/plain": [
       "<matplotlib.colorbar.Colorbar at 0x7fe298046a50>"
      ]
     },
     "execution_count": 146,
     "metadata": {},
     "output_type": "execute_result"
    },
    {
     "data": {
      "image/png": "[encoded data removed]",
      "text/plain": [
       "<Figure size 432x288 with 2 Axes>"
      ]
     },
     "metadata": {
      "image/png": {
       "height": 252,
       "width": 317
      },
      "needs_background": "light"
     },
     "output_type": "display_data"
    }
   ],
   "source": [
    "plt.imshow(res_[-1].reshape(nx,nx), extent=extent, origin='lower')\n",
    "\n",
    "plt.colorbar()"
   ]
  },
  {
   "cell_type": "code",
   "execution_count": 147,
   "metadata": {},
   "outputs": [
    {
     "data": {
      "text/plain": [
       "0.9999999864080453"
      ]
     },
     "execution_count": 147,
     "metadata": {},
     "output_type": "execute_result"
    }
   ],
   "source": [
    "res_[-1].sum()"
   ]
  },
  {
   "cell_type": "code",
   "execution_count": null,
   "metadata": {},
   "outputs": [],
   "source": []
  },
  {
   "cell_type": "code",
   "execution_count": null,
   "metadata": {},
   "outputs": [],
   "source": []
  }
 ],
 "metadata": {
  "kernelspec": {
   "display_name": "Python 3",
   "language": "python",
   "name": "python3"
  },
  "language_info": {
   "codemirror_mode": {
    "name": "ipython",
    "version": 3
   },
   "file_extension": ".py",
   "mimetype": "text/x-python",
   "name": "python",
   "nbconvert_exporter": "python",
   "pygments_lexer": "ipython3",
   "version": "3.7.6"
  }
 },
 "nbformat": 4,
 "nbformat_minor": 4
}
