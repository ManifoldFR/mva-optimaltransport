{
 "cells": [
  {
   "cell_type": "code",
   "execution_count": 1,
   "metadata": {},
   "outputs": [],
   "source": [
    "%load_ext autoreload\n",
    "%autoreload 2\n",
    "\n",
    "import sys\n",
    "import numpy as np\n",
    "import matplotlib.pyplot as plt\n",
    "\n",
    "plt.rcParams['figure.dpi'] = 80"
   ]
  },
  {
   "cell_type": "markdown",
   "metadata": {},
   "source": [
    "# Heat kernel test\n",
    "\n",
    "The heat kernel in $\\mathbb R^d$ is given by\n",
    "$$\n",
    "    G_t(z) = \\prod_{k=1}^d g_t(z_k)\n",
    "$$"
   ]
  },
  {
   "cell_type": "code",
   "execution_count": 2,
   "metadata": {},
   "outputs": [],
   "source": [
    "from heatkernel import HeatKernel"
   ]
  },
  {
   "cell_type": "code",
   "execution_count": 3,
   "metadata": {},
   "outputs": [],
   "source": [
    "dim = 2  # R^2\n",
    "xr = np.linspace(-1, 1, 51)\n",
    "yr = np.linspace(-1, 1, 41)\n",
    "grid = np.meshgrid(xr, yr)  # base grid\n",
    "grid_tensor = np.stack(grid, axis=-1)"
   ]
  },
  {
   "cell_type": "code",
   "execution_count": 4,
   "metadata": {},
   "outputs": [],
   "source": [
    "dt = 0.1"
   ]
  },
  {
   "cell_type": "code",
   "execution_count": 5,
   "metadata": {},
   "outputs": [
    {
     "name": "stdout",
     "output_type": "stream",
     "text": [
      "(41, 51, 2)\n"
     ]
    }
   ],
   "source": [
    "print(grid_tensor.shape)  # shape should be N1 x ... x Nd x d"
   ]
  },
  {
   "cell_type": "code",
   "execution_count": 6,
   "metadata": {},
   "outputs": [],
   "source": [
    "htk = HeatKernel(dt, grid_tensor)"
   ]
  },
  {
   "cell_type": "code",
   "execution_count": 7,
   "metadata": {},
   "outputs": [
    {
     "data": {
      "text/plain": [
       "Text(0, 0.5, '$y$')"
      ]
     },
     "execution_count": 7,
     "metadata": {},
     "output_type": "execute_result"
    },
    {
     "data": {
      "image/png": "[encoded data removed]",
      "text/plain": [
       "<Figure size 432x288 with 1 Axes>"
      ]
     },
     "metadata": {
      "needs_background": "light"
     },
     "output_type": "display_data"
    }
   ],
   "source": [
    "plt.imshow(htk.kernel, extent=[np.min(xr), np.max(xr), np.min(xr), np.max(xr)],\n",
    "           origin='lower', interpolation='bilinear')\n",
    "plt.xlabel(\"$x$\")\n",
    "plt.ylabel(\"$y$\")"
   ]
  },
  {
   "cell_type": "markdown",
   "metadata": {},
   "source": [
    "## Transition heat kernel"
   ]
  },
  {
   "cell_type": "markdown",
   "metadata": {},
   "source": [
    "As the paper indicates, the marginal Wiener measure $R^N = R_{t_0,\\ldots,t_N}$ (where $t_k = kh = kT/N$), with respect to which we integrate can be broken up into a sequence of heat kernels\n",
    "$$\n",
    "    R^N(dx_0,\\ldots,dx_N) = \\left(\\prod_{k=1}^N G_h(x_k-x_{k-1}) \\right)\n",
    "    \\,dx_0\\,\\ldots\\,dx_N\n",
    "$$\n",
    "Storing the full tensor $R^N$ would be expensive and unnecessary."
   ]
  },
  {
   "cell_type": "markdown",
   "metadata": {},
   "source": [
    "We use a class that holds all $d$ transition kernels on the spatial grid. If there are $N_j$ grid points along dimension $j$, then its marginal transition heat kernel is of size $N_j \\times N_j$."
   ]
  },
  {
   "cell_type": "code",
   "execution_count": 8,
   "metadata": {},
   "outputs": [],
   "source": [
    "from heatkernel import FastHeatKernel"
   ]
  },
  {
   "cell_type": "code",
   "execution_count": 9,
   "metadata": {},
   "outputs": [],
   "source": [
    "dgrids_ = [g[:, None] - g[None, :] for g in (xr, yr)]  # compute differences"
   ]
  },
  {
   "cell_type": "code",
   "execution_count": 10,
   "metadata": {},
   "outputs": [
    {
     "name": "stdout",
     "output_type": "stream",
     "text": [
      "Marginal kernel shapes should be:\n",
      "(51, 51)\n",
      "(41, 41)\n"
     ]
    }
   ],
   "source": [
    "print(\"Marginal kernel shapes should be:\")\n",
    "for g in dgrids_:\n",
    "    print(g.shape)"
   ]
  },
  {
   "cell_type": "code",
   "execution_count": 11,
   "metadata": {},
   "outputs": [],
   "source": [
    "fast_htk = FastHeatKernel(dt, dgrids_, dim=2)"
   ]
  },
  {
   "cell_type": "code",
   "execution_count": 12,
   "metadata": {},
   "outputs": [
    {
     "name": "stdout",
     "output_type": "stream",
     "text": [
      "TEST: Marginal kernels in class have shape\n",
      "dim #0: (51, 51)\n",
      "dim #1: (41, 41)\n"
     ]
    }
   ],
   "source": [
    "print(\"TEST: Marginal kernels in class have shape\")\n",
    "for j, ker in enumerate(fast_htk.kernels):\n",
    "    print(\"dim #%d:\" % j, ker.shape)"
   ]
  },
  {
   "cell_type": "markdown",
   "metadata": {},
   "source": [
    "# Utils test"
   ]
  },
  {
   "cell_type": "markdown",
   "metadata": {},
   "source": [
    "## Repeated outer product"
   ]
  },
  {
   "cell_type": "code",
   "execution_count": 13,
   "metadata": {},
   "outputs": [],
   "source": [
    "import utils"
   ]
  },
  {
   "cell_type": "code",
   "execution_count": 18,
   "metadata": {},
   "outputs": [],
   "source": [
    "n_s = [20, 20, 20]\n",
    "u_s = [np.random.rand(k) for k in n_s]"
   ]
  },
  {
   "cell_type": "code",
   "execution_count": 19,
   "metadata": {},
   "outputs": [
    {
     "data": {
      "text/plain": [
       "(20, 20, 20)"
      ]
     },
     "execution_count": 19,
     "metadata": {},
     "output_type": "execute_result"
    }
   ],
   "source": [
    "np.shape(utils.repeated_outer_product(*u_s))"
   ]
  },
  {
   "cell_type": "code",
   "execution_count": 20,
   "metadata": {},
   "outputs": [
    {
     "data": {
      "text/plain": [
       "(20, 20, 20)"
      ]
     },
     "execution_count": 20,
     "metadata": {},
     "output_type": "execute_result"
    }
   ],
   "source": [
    "np.shape(utils.partial_repeated_outer_product(*u_s, k=2))"
   ]
  },
  {
   "cell_type": "code",
   "execution_count": null,
   "metadata": {},
   "outputs": [],
   "source": []
  }
 ],
 "metadata": {
  "file_extension": ".py",
  "kernelspec": {
   "display_name": "Python 3",
   "language": "python",
   "name": "python3"
  },
  "language_info": {
   "codemirror_mode": {
    "name": "ipython",
    "version": 3
   },
   "file_extension": ".py",
   "mimetype": "text/x-python",
   "name": "python",
   "nbconvert_exporter": "python",
   "pygments_lexer": "ipython3",
   "version": "3.7.3"
  },
  "mimetype": "text/x-python",
  "name": "python",
  "npconvert_exporter": "python",
  "pygments_lexer": "ipython3",
  "version": 3
 },
 "nbformat": 4,
 "nbformat_minor": 4
}
