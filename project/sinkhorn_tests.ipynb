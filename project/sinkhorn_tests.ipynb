{
 "cells": [
  {
   "cell_type": "code",
   "execution_count": 1,
   "metadata": {},
   "outputs": [],
   "source": [
    "import numpy as np\n",
    "import cvxpy as cvx\n",
    "import matplotlib.pyplot as plt\n",
    "%matplotlib inline"
   ]
  },
  {
   "cell_type": "code",
   "execution_count": 2,
   "metadata": {},
   "outputs": [],
   "source": [
    "plt.rcParams['figure.dpi'] = 90\n",
    "plt.rcParams['figure.figsize'] = (6, 5)"
   ]
  },
  {
   "cell_type": "markdown",
   "metadata": {},
   "source": [
    "# Simple two-marginal problem"
   ]
  },
  {
   "cell_type": "code",
   "execution_count": 3,
   "metadata": {},
   "outputs": [],
   "source": [
    "n = 30\n",
    "m = 30"
   ]
  },
  {
   "cell_type": "code",
   "execution_count": 4,
   "metadata": {},
   "outputs": [
    {
     "data": {
      "text/plain": [
       "<matplotlib.legend.Legend at 0x7f14f5921450>"
      ]
     },
     "execution_count": 4,
     "metadata": {},
     "output_type": "execute_result"
    },
    {
     "data": {
      "image/png": "[encoded data removed]",
      "text/plain": [
       "<Figure size 540x450 with 1 Axes>"
      ]
     },
     "metadata": {
      "needs_background": "light"
     },
     "output_type": "display_data"
    }
   ],
   "source": [
    "x = np.random.randn(n) * 1.5 * np.pi\n",
    "x = 1.2 * np.stack([np.cos(x), np.sin(x)], axis=1) + 0.1 * np.random.randn(n, 2)\n",
    "\n",
    "thet_y = np.random.randn(m) * 0.9 * np.pi\n",
    "y = 0.8 * np.stack([np.cos(thet_y), np.sin(thet_y)], axis=1) + 0.05 * np.random.randn(m, 2) \n",
    "\n",
    "plt.scatter(*x.T, label=\"$x_i$\", s=20)\n",
    "plt.scatter(*y.T, label=\"$y_j$\", s=20)\n",
    "plt.legend()"
   ]
  },
  {
   "cell_type": "markdown",
   "metadata": {},
   "source": [
    "The cost matrix is given by\n",
    "\\\\[\n",
    "    \\mathbf{C}_{i,j} = |x_i - y_j|^2\n",
    "\\\\]"
   ]
  },
  {
   "cell_type": "markdown",
   "metadata": {},
   "source": [
    "Between the two datasets $X$ and $Y$, the Wasserstein distance is given by\n",
    "$$\n",
    "    \\mathcal W_2^2(\\mathbf a,\\mathbf b) = \\min_{\\mathbf{P}: \\mathbf P^T\\mathbf 1 = \\mathbf a,\\;\\mathbf P\\mathbf 1 = \\mathbf b}~\\langle \\mathbf P,\\mathbf C\\rangle\n",
    "$$\n",
    "\n",
    "Here, the mass assigned to each point is identical. The obvious solution is taking the nearest-neighbor mapping between the points of $X$ and $Y$."
   ]
  },
  {
   "cell_type": "markdown",
   "metadata": {},
   "source": [
    "The Kantorovitch dual problem is given by\n",
    "$$\n",
    "    \\max_{(\\mathbf f,\\mathbf g)\\in R(\\mathbf C)}~ \\langle \\mathbf f,\\mathbf a\\rangle+\\langle\\mathbf g,\\mathbf b\\rangle\n",
    "$$\n",
    "where $R(\\mathbf C) = \\{ \\mathbf f,\\mathbf g : \\mathbf 1\\mathbf f^T + \\mathbf g \\mathbf 1^T \\leq \\mathbf C \\}$"
   ]
  },
  {
   "cell_type": "code",
   "execution_count": 5,
   "metadata": {},
   "outputs": [],
   "source": [
    "from scipy.spatial import distance"
   ]
  },
  {
   "cell_type": "code",
   "execution_count": 6,
   "metadata": {},
   "outputs": [],
   "source": [
    "# the distance matrix\n",
    "pairwise_dists = np.square(distance.cdist(x, y, metric='euclidean'))"
   ]
  },
  {
   "cell_type": "markdown",
   "metadata": {},
   "source": [
    "## Sinkhorn"
   ]
  },
  {
   "cell_type": "markdown",
   "metadata": {},
   "source": [
    "Define the Gibbs matrix\n",
    "$$\n",
    "    \\mathbf K_{i,j} = \\exp(-\\mathbf C_{i,j}/\\epsilon)\n",
    "$$"
   ]
  },
  {
   "cell_type": "markdown",
   "metadata": {},
   "source": [
    "$$\n",
    "    \\mathbf u^{(n+1)} = \\frac{\\mathbf a}{\\mathbf K\\mathbf v^{(n)}},\n",
    "    \\quad\n",
    "    \\mathbf v^{(n+1)} = \\frac{\\mathbf b}{\\mathbf K^T\\mathbf u^{(n+1)}}\n",
    "$$"
   ]
  },
  {
   "cell_type": "code",
   "execution_count": 7,
   "metadata": {},
   "outputs": [],
   "source": [
    "def sinkhorn(a, b, K, n_iters=10, verbose='last'):\n",
    "    # Initialize\n",
    "    v = np.ones_like(b) / b.size\n",
    "    \n",
    "    for i in range(n_iters):\n",
    "        u_tmp = a / (K.dot(v))\n",
    "        v_tmp = b / (np.dot(K.T, u_tmp))\n",
    "        \n",
    "        if (verbose=='last') and i+1==n_iters:\n",
    "            du_norm = np.linalg.norm(u-u_tmp)\n",
    "            dv_norm = np.linalg.norm(v-v_tmp)\n",
    "            print(\"Rel. L2 improvement: u (%.3e); v (%.3e)\"\n",
    "                  % (du_norm/np.linalg.norm(u),\n",
    "                     dv_norm/np.linalg.norm(v)))\n",
    "        u = u_tmp\n",
    "        v = v_tmp\n",
    "    u = u[:, None]\n",
    "    v = v[:, None]\n",
    "    P = u * K * v.T\n",
    "    err_u = np.linalg.norm(a - np.sum(P, axis=1), ord=1)\n",
    "    err_v = np.linalg.norm(b - np.sum(P, axis=0), ord=1)\n",
    "    print(\"Marginal constraint violation -- u: %.3e | v: %.3e\"\n",
    "          % (np.log(err_u), np.log(err_v)))\n",
    "    return P, (u, v)"
   ]
  },
  {
   "cell_type": "code",
   "execution_count": 12,
   "metadata": {},
   "outputs": [],
   "source": [
    "eps = 2e-3\n",
    "cost_mat = pairwise_dists\n",
    "K_mat = np.exp(-cost_mat / eps)\n",
    "\n",
    "a_mes = np.ones(n) / n\n",
    "b_mes = np.ones(m) / m"
   ]
  },
  {
   "cell_type": "code",
   "execution_count": 13,
   "metadata": {},
   "outputs": [
    {
     "name": "stdout",
     "output_type": "stream",
     "text": [
      "Rel. L2 improvement: u (9.968e-01); v (6.288e-01)\n",
      "Marginal constraint violation -- u: -1.088e+00 | v: -3.702e+01\n"
     ]
    }
   ],
   "source": [
    "plan, (u, v) = sinkhorn(a_mes, b_mes, K_mat, n_iters=50)"
   ]
  },
  {
   "cell_type": "code",
   "execution_count": 14,
   "metadata": {},
   "outputs": [
    {
     "data": {
      "text/plain": [
       "<matplotlib.colorbar.Colorbar at 0x7f14f43a2a10>"
      ]
     },
     "execution_count": 14,
     "metadata": {},
     "output_type": "execute_result"
    },
    {
     "data": {
      "image/png": "[encoded data removed]",
      "text/plain": [
       "<Figure size 540x450 with 2 Axes>"
      ]
     },
     "metadata": {
      "needs_background": "light"
     },
     "output_type": "display_data"
    }
   ],
   "source": [
    "plt.imshow(plan, interpolation=\"nearest\")\n",
    "plt.xlabel(\"$x_i$\")\n",
    "plt.ylabel(\"$y_j$\")\n",
    "plt.title(r\"Heatmap: transport plan $\\log\\,{P}$\")\n",
    "plt.colorbar()"
   ]
  },
  {
   "cell_type": "code",
   "execution_count": 15,
   "metadata": {},
   "outputs": [
    {
     "data": {
      "text/plain": [
       "Text(0.5, 1.0, 'Entropic OT plan $P$ (param. $\\\\epsilon=2.0e-03$)')"
      ]
     },
     "execution_count": 15,
     "metadata": {},
     "output_type": "execute_result"
    },
    {
     "data": {
      "image/png": "[encoded data removed]",
      "text/plain": [
       "<Figure size 540x450 with 1 Axes>"
      ]
     },
     "metadata": {
      "needs_background": "light"
     },
     "output_type": "display_data"
    }
   ],
   "source": [
    "ot_max = plan.max()\n",
    "threshold = 0.05 * ot_max\n",
    "\n",
    "fig = plt.figure()\n",
    "\n",
    "plt.scatter(*x.T, marker=\"o\", s=30)\n",
    "plt.scatter(*y.T, marker=\"o\", s=30)\n",
    "\n",
    "plt.legend([\"Sources $X$\", \"Targets $Y$\"])\n",
    "\n",
    "for i in range(plan.shape[0]):\n",
    "    for j in range(plan.shape[1]):\n",
    "        if plan[i, j] > threshold:\n",
    "            alph = plan[i, j] / threshold\n",
    "            plt.plot([x[i,0], y[j, 0]], [x[i,1], y[j, 1]],\n",
    "                     color='black', zorder=-1,\n",
    "                     linewidth=0.8, alpha=alph)\n",
    "\n",
    "plt.title(\"Entropic OT plan $P$ (param. $\\epsilon=%.1e$)\" % eps)"
   ]
  },
  {
   "cell_type": "code",
   "execution_count": 16,
   "metadata": {},
   "outputs": [],
   "source": [
    "fig.savefig(\"/home/manifold/Pictures/transport_sinkhorn_test2.png\")"
   ]
  },
  {
   "cell_type": "markdown",
   "metadata": {},
   "source": [
    "# Towards multimarginal transport: three measure case"
   ]
  },
  {
   "cell_type": "code",
   "execution_count": 57,
   "metadata": {},
   "outputs": [],
   "source": [
    "n = 20\n",
    "m = 25\n",
    "p = 15"
   ]
  },
  {
   "cell_type": "code",
   "execution_count": 58,
   "metadata": {},
   "outputs": [
    {
     "data": {
      "image/png": "[encoded data removed]",
      "text/plain": [
       "<Figure size 540x450 with 1 Axes>"
      ]
     },
     "metadata": {
      "needs_background": "light"
     },
     "output_type": "display_data"
    }
   ],
   "source": [
    "thet_x = (0.1 * np.random.randn(n) + 1.) * np.pi\n",
    "x = np.array([0.8,0.]) + 3.8 * np.stack([np.cos(thet_x), np.sin(thet_x)],axis=1) +\\\n",
    "    0.01 * np.random.randn(n, 2)\n",
    "\n",
    "y = np.stack([0.1 + 0.06 * np.random.randn(m),\n",
    "              (2 * np.random.rand(m) - 1) * 2.5], axis=1)\n",
    "\n",
    "rz = np.random.randn(p)\n",
    "z = np.stack([2.8 + 0.1 * np.random.randn(p) + 0.4 * rz,\n",
    "              1.5 * rz], axis=1)\n",
    "\n",
    "\n",
    "plt.scatter(*x.T, s=15)\n",
    "plt.scatter(*y.T, s=15)\n",
    "plt.scatter(*z.T, s=15)\n",
    "plt.legend([\"$X_1$\", \"$X_2$\", \"$X_3$\"])\n",
    "ax = plt.gca()\n",
    "ax.set_aspect(\"equal\")"
   ]
  },
  {
   "cell_type": "markdown",
   "metadata": {},
   "source": [
    "We want to perform transport between three measures $\\boldsymbol \\mu_i$, $i=1,2,3$."
   ]
  },
  {
   "cell_type": "markdown",
   "metadata": {},
   "source": [
    "Given a cost matrix $\\mathbf C = (\\mathbf C_{i,j,k})$, we want to find $\\mathbf P \\in \\mathbb R^{n_1\\times n_2\\times n_3}$ solving\n",
    "$$\n",
    "    \\min_{\\mathbf P}~ \\langle \\mathbf P, \\mathbf C\\rangle\n",
    "$$\n",
    "under the constraint that the sum of $\\mathbf P$ along its axes $(0,2)$ is $\\boldsymbol \\mu_1$, etc."
   ]
  },
  {
   "cell_type": "markdown",
   "metadata": {},
   "source": [
    "Here the dot product is defined intuitively as\n",
    "$$\n",
    "    \\langle\\mathbf P,\\mathbf C\\rangle =\n",
    "    \\sum_{k=1}^3 \\sum_{i_k = 1}^{n_k}\n",
    "    \\mathbf P_{i_1,i_2,i_3} \\mathbf C_{i_1,i_2,i_3}\n",
    "$$"
   ]
  },
  {
   "cell_type": "markdown",
   "metadata": {},
   "source": [
    "For our first application we will use the total Euclidean distance from left-to-right\n",
    "$$\n",
    "    \\mathbf C_{i,j,k} = |x_{1,i} - x_{2,j}|^2 + |x_{2,j} - x_{3,k}|^2 +\n",
    "    \\kappa|x_{1,i} - x_{3,k}|^2\n",
    "$$\n",
    "where $\\kappa$ is big so as to penalize transport that skips the middle dataset."
   ]
  },
  {
   "cell_type": "code",
   "execution_count": 59,
   "metadata": {},
   "outputs": [
    {
     "name": "stdout",
     "output_type": "stream",
     "text": [
      "Full cost matrix shape: (20, 25, 15)\n",
      "1: (20, 25, 1)\n",
      "2: (1, 25, 15)\n",
      "3: (20, 1, 15)\n"
     ]
    }
   ],
   "source": [
    "cost_mat = np.zeros((n, m, p))\n",
    "print(\"Full cost matrix shape:\", cost_mat.shape)\n",
    "\n",
    "cost_mat1 = np.expand_dims(distance.cdist(x, y), 2) ** 2\n",
    "print(\"1:\", cost_mat1.shape)\n",
    "cost_mat2 = np.expand_dims(distance.cdist(y, z), 0) ** 2\n",
    "print(\"2:\", cost_mat2.shape)\n",
    "cost_mat3 = np.expand_dims(distance.cdist(x, z), 1) ** 2\n",
    "print(\"3:\", cost_mat3.shape)"
   ]
  },
  {
   "cell_type": "code",
   "execution_count": 60,
   "metadata": {},
   "outputs": [],
   "source": [
    "cost_mat[:] = cost_mat1 + cost_mat2"
   ]
  },
  {
   "cell_type": "code",
   "execution_count": 61,
   "metadata": {},
   "outputs": [],
   "source": [
    "mu1, mu2, mu3 = [np.ones(s)/s for s in [n, m, p]]"
   ]
  },
  {
   "cell_type": "markdown",
   "metadata": {},
   "source": [
    "The adapted Sinkhorn algorithm reads\n",
    "$$\n",
    "    \\mathbf u_{j, i_j} \\leftarrow\n",
    "    \\frac{\n",
    "        \\boldsymbol \\mu_{j,i_j}\n",
    "    }{\n",
    "        \\sum_{k\\neq j} \\sum_{i_k}^{n_k} \\mathbf K_{i_1,\\ldots,i_3}\\prod_{r\\neq j}\\mathbf u_{r,i_r}\n",
    "    }\n",
    "$$"
   ]
  },
  {
   "cell_type": "markdown",
   "metadata": {},
   "source": [
    "or\n",
    "$$\n",
    "    \\mathbf u_{j,i_j} \\leftarrow\n",
    "    \\frac{\n",
    "        \\boldsymbol \\mu_j\n",
    "    }{\n",
    "        \\mathbf K^{j,i_j} [\\mathbf u_r]_{r\\neq j}\n",
    "    }\n",
    "$$\n",
    "where $\\mathbf K^{j,i_j}$ is the $2$-tensor (a bilinear map) obtained by keeping slice $i_j$ along the $j$-th axis of $\\mathbf K$."
   ]
  },
  {
   "cell_type": "code",
   "execution_count": 111,
   "metadata": {},
   "outputs": [],
   "source": [
    "class ThreeMargSinkhorn:\n",
    "    r\"\"\"\n",
    "    Sinkhorn algorithm for transport between three measures\n",
    "    `mu_1`, `mu_2` and `mu_3`.\n",
    "    \"\"\"\n",
    "    def __init__(self, mu1, mu2, mu3, cost: np.ndarray, eps=1e-1):\n",
    "        self.mu1 = mu1\n",
    "        self.mu2 = mu2\n",
    "        self.mu3 = mu3\n",
    "        self.cost = cost\n",
    "        self.eps = eps\n",
    "        # Make the Gibbs matrix\n",
    "        self.K: np.ndarray = np.exp(-self.cost / eps)\n",
    "        print(\"Gibbs matrix shape:\", self.K.shape)\n",
    "    \n",
    "    def compute(self, n_iter=20):\n",
    "        u3 = np.ones_like(self.mu3) / self.mu3.size\n",
    "        mus = [mu1, mu2, mu3]\n",
    "        \n",
    "        for n in range(n_iter):\n",
    "            den = []\n",
    "            for s in range(3):\n",
    "                u_prod = np.outer(mus[s+1], mus[(s+2) % 3])\n",
    "                K_a = self.K.swapaxes(0, s)\n",
    "                print(\"uprod shape:\", u_prod.shape)\n",
    "                print(\"K_a shape:\", K_a.shape)\n",
    "                den.append(\n",
    "                    np.tensordot(K_a, u_prod)\n",
    "                )\n",
    "            for d in den: print(d.shape)\n",
    "            u1 = self.mu1 / den\n"
   ]
  },
  {
   "cell_type": "code",
   "execution_count": 112,
   "metadata": {},
   "outputs": [
    {
     "name": "stdout",
     "output_type": "stream",
     "text": [
      "Gibbs matrix shape: (20, 25, 15)\n"
     ]
    }
   ],
   "source": [
    "sink = ThreeMargSinkhorn(mu1, mu2, mu3, cost_mat)"
   ]
  },
  {
   "cell_type": "code",
   "execution_count": 113,
   "metadata": {},
   "outputs": [
    {
     "data": {
      "text/plain": [
       "(20, 25, 15)"
      ]
     },
     "execution_count": 113,
     "metadata": {},
     "output_type": "execute_result"
    }
   ],
   "source": [
    "sink.K.shape"
   ]
  },
  {
   "cell_type": "code",
   "execution_count": 114,
   "metadata": {},
   "outputs": [
    {
     "data": {
      "text/plain": [
       "(25, 20, 15)"
      ]
     },
     "execution_count": 114,
     "metadata": {},
     "output_type": "execute_result"
    }
   ],
   "source": [
    "sink.K.swapaxes(0, 1).shape"
   ]
  },
  {
   "cell_type": "code",
   "execution_count": 115,
   "metadata": {},
   "outputs": [
    {
     "data": {
      "text/plain": [
       "(15, 25, 20)"
      ]
     },
     "execution_count": 115,
     "metadata": {},
     "output_type": "execute_result"
    }
   ],
   "source": [
    "sink.K.swapaxes(0, 2).shape"
   ]
  },
  {
   "cell_type": "code",
   "execution_count": 116,
   "metadata": {},
   "outputs": [
    {
     "name": "stdout",
     "output_type": "stream",
     "text": [
      "uprod shape: (25, 15)\n",
      "K_a shape: (20, 25, 15)\n",
      "uprod shape: (15, 20)\n",
      "K_a shape: (25, 20, 15)\n"
     ]
    },
    {
     "ename": "ValueError",
     "evalue": "shape-mismatch for sum",
     "output_type": "error",
     "traceback": [
      "\u001b[0;31m---------------------------------------------------------------------------\u001b[0m",
      "\u001b[0;31mValueError\u001b[0m                                Traceback (most recent call last)",
      "\u001b[0;32m<ipython-input-116-4140b2cecff6>\u001b[0m in \u001b[0;36m<module>\u001b[0;34m\u001b[0m\n\u001b[0;32m----> 1\u001b[0;31m \u001b[0msink\u001b[0m\u001b[0;34m.\u001b[0m\u001b[0mcompute\u001b[0m\u001b[0;34m(\u001b[0m\u001b[0;34m)\u001b[0m\u001b[0;34m\u001b[0m\u001b[0;34m\u001b[0m\u001b[0m\n\u001b[0m",
      "\u001b[0;32m<ipython-input-111-00f0cdd8dcf4>\u001b[0m in \u001b[0;36mcompute\u001b[0;34m(self, n_iter)\u001b[0m\n\u001b[1;32m     26\u001b[0m                 \u001b[0mprint\u001b[0m\u001b[0;34m(\u001b[0m\u001b[0;34m\"K_a shape:\"\u001b[0m\u001b[0;34m,\u001b[0m \u001b[0mK_a\u001b[0m\u001b[0;34m.\u001b[0m\u001b[0mshape\u001b[0m\u001b[0;34m)\u001b[0m\u001b[0;34m\u001b[0m\u001b[0;34m\u001b[0m\u001b[0m\n\u001b[1;32m     27\u001b[0m                 den.append(\n\u001b[0;32m---> 28\u001b[0;31m                     \u001b[0mnp\u001b[0m\u001b[0;34m.\u001b[0m\u001b[0mtensordot\u001b[0m\u001b[0;34m(\u001b[0m\u001b[0mK_a\u001b[0m\u001b[0;34m,\u001b[0m \u001b[0mu_prod\u001b[0m\u001b[0;34m)\u001b[0m\u001b[0;34m\u001b[0m\u001b[0;34m\u001b[0m\u001b[0m\n\u001b[0m\u001b[1;32m     29\u001b[0m                 )\n\u001b[1;32m     30\u001b[0m             \u001b[0;32mfor\u001b[0m \u001b[0md\u001b[0m \u001b[0;32min\u001b[0m \u001b[0mden\u001b[0m\u001b[0;34m:\u001b[0m \u001b[0mprint\u001b[0m\u001b[0;34m(\u001b[0m\u001b[0md\u001b[0m\u001b[0;34m.\u001b[0m\u001b[0mshape\u001b[0m\u001b[0;34m)\u001b[0m\u001b[0;34m\u001b[0m\u001b[0;34m\u001b[0m\u001b[0m\n",
      "\u001b[0;32m<__array_function__ internals>\u001b[0m in \u001b[0;36mtensordot\u001b[0;34m(*args, **kwargs)\u001b[0m\n",
      "\u001b[0;32m~/miniconda3/lib/python3.7/site-packages/numpy/core/numeric.py\u001b[0m in \u001b[0;36mtensordot\u001b[0;34m(a, b, axes)\u001b[0m\n\u001b[1;32m   1074\u001b[0m                 \u001b[0maxes_b\u001b[0m\u001b[0;34m[\u001b[0m\u001b[0mk\u001b[0m\u001b[0;34m]\u001b[0m \u001b[0;34m+=\u001b[0m \u001b[0mndb\u001b[0m\u001b[0;34m\u001b[0m\u001b[0;34m\u001b[0m\u001b[0m\n\u001b[1;32m   1075\u001b[0m     \u001b[0;32mif\u001b[0m \u001b[0;32mnot\u001b[0m \u001b[0mequal\u001b[0m\u001b[0;34m:\u001b[0m\u001b[0;34m\u001b[0m\u001b[0;34m\u001b[0m\u001b[0m\n\u001b[0;32m-> 1076\u001b[0;31m         \u001b[0;32mraise\u001b[0m \u001b[0mValueError\u001b[0m\u001b[0;34m(\u001b[0m\u001b[0;34m\"shape-mismatch for sum\"\u001b[0m\u001b[0;34m)\u001b[0m\u001b[0;34m\u001b[0m\u001b[0;34m\u001b[0m\u001b[0m\n\u001b[0m\u001b[1;32m   1077\u001b[0m \u001b[0;34m\u001b[0m\u001b[0m\n\u001b[1;32m   1078\u001b[0m     \u001b[0;31m# Move the axes to sum over to the end of \"a\"\u001b[0m\u001b[0;34m\u001b[0m\u001b[0;34m\u001b[0m\u001b[0;34m\u001b[0m\u001b[0m\n",
      "\u001b[0;31mValueError\u001b[0m: shape-mismatch for sum"
     ]
    }
   ],
   "source": [
    "sink.compute()"
   ]
  },
  {
   "cell_type": "code",
   "execution_count": 47,
   "metadata": {},
   "outputs": [
    {
     "data": {
      "text/plain": [
       "(25,)"
      ]
     },
     "execution_count": 47,
     "metadata": {},
     "output_type": "execute_result"
    }
   ],
   "source": [
    "np.tensordot(sink.K, np.outer(sink.mu2, sink.mu3)).shape"
   ]
  },
  {
   "cell_type": "code",
   "execution_count": 28,
   "metadata": {},
   "outputs": [
    {
     "data": {
      "text/plain": [
       "(25, 25, 15)"
      ]
     },
     "execution_count": 28,
     "metadata": {},
     "output_type": "execute_result"
    }
   ],
   "source": [
    "sink.K.shape"
   ]
  },
  {
   "cell_type": "code",
   "execution_count": null,
   "metadata": {},
   "outputs": [],
   "source": []
  },
  {
   "cell_type": "code",
   "execution_count": null,
   "metadata": {},
   "outputs": [],
   "source": []
  }
 ],
 "metadata": {
  "kernelspec": {
   "display_name": "Python 3",
   "language": "python",
   "name": "python3"
  },
  "language_info": {
   "codemirror_mode": {
    "name": "ipython",
    "version": 3
   },
   "file_extension": ".py",
   "mimetype": "text/x-python",
   "name": "python",
   "nbconvert_exporter": "python",
   "pygments_lexer": "ipython3",
   "version": "3.7.4"
  },
  "toc-autonumbering": true,
  "toc-showtags": false
 },
 "nbformat": 4,
 "nbformat_minor": 4
}
